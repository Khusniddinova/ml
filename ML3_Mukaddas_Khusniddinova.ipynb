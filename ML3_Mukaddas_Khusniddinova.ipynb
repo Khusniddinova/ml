{
  "nbformat": 4,
  "nbformat_minor": 0,
  "metadata": {
    "colab": {
      "provenance": [],
      "authorship_tag": "ABX9TyOj0tmTnBZXmW3jSc0Pey4Q",
      "include_colab_link": true
    },
    "kernelspec": {
      "name": "python3",
      "display_name": "Python 3"
    },
    "language_info": {
      "name": "python"
    }
  },
  "cells": [
    {
      "cell_type": "markdown",
      "metadata": {
        "id": "view-in-github",
        "colab_type": "text"
      },
      "source": [
        "<a href=\"https://colab.research.google.com/github/Khusniddinova/ml/blob/main/ML3_Mukaddas_Khusniddinova.ipynb\" target=\"_parent\"><img src=\"https://colab.research.google.com/assets/colab-badge.svg\" alt=\"Open In Colab\"/></a>"
      ]
    },
    {
      "cell_type": "markdown",
      "source": [
        "Student: Mukaddas Khusniddinova\n",
        "\n",
        "ID: 2110146\n",
        "\n",
        "Group: JSE-02\n",
        "\n",
        "\n",
        "\n",
        "**task2**"
      ],
      "metadata": {
        "id": "Klk9K44EQHgS"
      }
    },
    {
      "cell_type": "code",
      "execution_count": 1,
      "metadata": {
        "id": "qIBmSCyLOH_D"
      },
      "outputs": [],
      "source": [
        "import os.path\n",
        "def check_fashion_mnist_dataset_exists(path_data='data/'):\n",
        "    flag_train_data = os.path.isfile(path_data + 'fashion-mnist/train_data.pt')\n",
        "    flag_train_label = os.path.isfile(path_data + 'fashion-mnist/train_label.pt')\n",
        "    flag_test_data = os.path.isfile(path_data + 'fashion-mnist/test_data.pt')\n",
        "    flag_test_label = os.path.isfile(path_data + 'fashion-mnist/test_label.pt')\n",
        "    if flag_train_data==False or flag_train_label==False or flag_test_data==False or flag_test_label==False:\n",
        "        print('FASHION-MNIST dataset missing - downloading...')\n",
        "        import torchvision\n",
        "        import torchvision.transforms as transforms\n",
        "        trainset = torchvision.datasets.FashionMNIST(root=path_data + 'fashion-mnist/temp', train=True,\n",
        "                                                download=True, transform=transforms.ToTensor())\n",
        "        testset = torchvision.datasets.FashionMNIST(root=path_data + 'fashion-mnist/temp', train=False,\n",
        "                                               download=True, transform=transforms.ToTensor())\n",
        "        train_data=torch.Tensor(60000,28,28)\n",
        "        train_label=torch.LongTensor(60000)\n",
        "        for idx , example in enumerate(trainset):\n",
        "            train_data[idx]=example[0].squeeze()\n",
        "            train_label[idx]=example[1]\n",
        "        torch.save(train_data,path_data + 'fashion-mnist/train_data.pt')\n",
        "        torch.save(train_label,path_data + 'fashion-mnist/train_label.pt')\n",
        "        test_data=torch.Tensor(10000,28,28)\n",
        "        test_label=torch.LongTensor(10000)\n",
        "        for idx , example in enumerate(testset):\n",
        "            test_data[idx]=example[0].squeeze()\n",
        "            test_label[idx]=example[1]\n",
        "        torch.save(test_data,path_data + 'fashion-mnist/test_data.pt')\n",
        "        torch.save(test_label,path_data + 'fashion-mnist/test_label.pt')\n",
        "    return path_data"
      ]
    },
    {
      "cell_type": "code",
      "source": [
        "def show(X):\n",
        "    if X.dim() == 3 and X.size(0) == 3:\n",
        "        plt.imshow( np.transpose(  X.numpy() , (1, 2, 0))  )\n",
        "        plt.show()\n",
        "    elif X.dim() == 2:\n",
        "        plt.imshow(   X.numpy() , cmap='gray'  )\n",
        "        plt.show()\n",
        "    else:\n",
        "        print('WRONG TENSOR SIZE')"
      ],
      "metadata": {
        "id": "sQOwecuyOZRY"
      },
      "execution_count": 2,
      "outputs": []
    },
    {
      "cell_type": "code",
      "source": [
        "import torch\n",
        "import torchvision\n",
        "import matplotlib.pyplot as plt\n",
        "\n",
        "\n",
        "# Check and download the dataset\n",
        "data_path = check_fashion_mnist_dataset_exists()\n",
        "\n",
        "# Load Fashion MNIST dataset\n",
        "train_dataset = torchvision.datasets.FashionMNIST(root=data_path + 'fashion-mnist/', train=True, download=True)\n",
        "\n",
        "import torchvision.transforms as transforms\n",
        "\n",
        "# Transformation to convert PIL images to tensors\n",
        "transform = transforms.ToTensor()\n",
        "\n",
        "# Display some sample images\n",
        "num_samples_to_display = 11\n",
        "\n",
        "plt.figure(figsize=(10, 5))\n",
        "for i in range(num_samples_to_display):\n",
        "    image, label = train_dataset[i]\n",
        "    image_tensor = transform(image)  # Convert PIL image to tensor\n",
        "    plt.subplot(1, num_samples_to_display, i + 1)\n",
        "\n",
        "    plt.imshow(image)\n",
        "    plt.title(f\"Label: {label}\")\n",
        "    plt.axis('off')\n",
        "plt.tight_layout()\n",
        "plt.show()\n",
        "\n"
      ],
      "metadata": {
        "colab": {
          "base_uri": "https://localhost:8080/",
          "height": 844
        },
        "id": "Zf9erRguOeN6",
        "outputId": "7e576388-2278-454b-88da-44a924c92b50"
      },
      "execution_count": 3,
      "outputs": [
        {
          "output_type": "stream",
          "name": "stdout",
          "text": [
            "FASHION-MNIST dataset missing - downloading...\n",
            "Downloading http://fashion-mnist.s3-website.eu-central-1.amazonaws.com/train-images-idx3-ubyte.gz\n",
            "Downloading http://fashion-mnist.s3-website.eu-central-1.amazonaws.com/train-images-idx3-ubyte.gz to data/fashion-mnist/temp/FashionMNIST/raw/train-images-idx3-ubyte.gz\n"
          ]
        },
        {
          "output_type": "stream",
          "name": "stderr",
          "text": [
            "100%|██████████| 26421880/26421880 [00:03<00:00, 8144202.52it/s] \n"
          ]
        },
        {
          "output_type": "stream",
          "name": "stdout",
          "text": [
            "Extracting data/fashion-mnist/temp/FashionMNIST/raw/train-images-idx3-ubyte.gz to data/fashion-mnist/temp/FashionMNIST/raw\n",
            "\n",
            "Downloading http://fashion-mnist.s3-website.eu-central-1.amazonaws.com/train-labels-idx1-ubyte.gz\n",
            "Downloading http://fashion-mnist.s3-website.eu-central-1.amazonaws.com/train-labels-idx1-ubyte.gz to data/fashion-mnist/temp/FashionMNIST/raw/train-labels-idx1-ubyte.gz\n"
          ]
        },
        {
          "output_type": "stream",
          "name": "stderr",
          "text": [
            "100%|██████████| 29515/29515 [00:00<00:00, 135930.04it/s]\n"
          ]
        },
        {
          "output_type": "stream",
          "name": "stdout",
          "text": [
            "Extracting data/fashion-mnist/temp/FashionMNIST/raw/train-labels-idx1-ubyte.gz to data/fashion-mnist/temp/FashionMNIST/raw\n",
            "\n",
            "Downloading http://fashion-mnist.s3-website.eu-central-1.amazonaws.com/t10k-images-idx3-ubyte.gz\n",
            "Downloading http://fashion-mnist.s3-website.eu-central-1.amazonaws.com/t10k-images-idx3-ubyte.gz to data/fashion-mnist/temp/FashionMNIST/raw/t10k-images-idx3-ubyte.gz\n"
          ]
        },
        {
          "output_type": "stream",
          "name": "stderr",
          "text": [
            "100%|██████████| 4422102/4422102 [00:01<00:00, 2567222.75it/s]\n"
          ]
        },
        {
          "output_type": "stream",
          "name": "stdout",
          "text": [
            "Extracting data/fashion-mnist/temp/FashionMNIST/raw/t10k-images-idx3-ubyte.gz to data/fashion-mnist/temp/FashionMNIST/raw\n",
            "\n",
            "Downloading http://fashion-mnist.s3-website.eu-central-1.amazonaws.com/t10k-labels-idx1-ubyte.gz\n",
            "Downloading http://fashion-mnist.s3-website.eu-central-1.amazonaws.com/t10k-labels-idx1-ubyte.gz to data/fashion-mnist/temp/FashionMNIST/raw/t10k-labels-idx1-ubyte.gz\n"
          ]
        },
        {
          "output_type": "stream",
          "name": "stderr",
          "text": [
            "100%|██████████| 5148/5148 [00:00<00:00, 15830115.10it/s]\n"
          ]
        },
        {
          "output_type": "stream",
          "name": "stdout",
          "text": [
            "Extracting data/fashion-mnist/temp/FashionMNIST/raw/t10k-labels-idx1-ubyte.gz to data/fashion-mnist/temp/FashionMNIST/raw\n",
            "\n",
            "Downloading http://fashion-mnist.s3-website.eu-central-1.amazonaws.com/train-images-idx3-ubyte.gz\n",
            "Downloading http://fashion-mnist.s3-website.eu-central-1.amazonaws.com/train-images-idx3-ubyte.gz to data/fashion-mnist/FashionMNIST/raw/train-images-idx3-ubyte.gz\n"
          ]
        },
        {
          "output_type": "stream",
          "name": "stderr",
          "text": [
            "100%|██████████| 26421880/26421880 [00:03<00:00, 8354053.39it/s] \n"
          ]
        },
        {
          "output_type": "stream",
          "name": "stdout",
          "text": [
            "Extracting data/fashion-mnist/FashionMNIST/raw/train-images-idx3-ubyte.gz to data/fashion-mnist/FashionMNIST/raw\n",
            "\n",
            "Downloading http://fashion-mnist.s3-website.eu-central-1.amazonaws.com/train-labels-idx1-ubyte.gz\n",
            "Downloading http://fashion-mnist.s3-website.eu-central-1.amazonaws.com/train-labels-idx1-ubyte.gz to data/fashion-mnist/FashionMNIST/raw/train-labels-idx1-ubyte.gz\n"
          ]
        },
        {
          "output_type": "stream",
          "name": "stderr",
          "text": [
            "100%|██████████| 29515/29515 [00:00<00:00, 136798.84it/s]\n"
          ]
        },
        {
          "output_type": "stream",
          "name": "stdout",
          "text": [
            "Extracting data/fashion-mnist/FashionMNIST/raw/train-labels-idx1-ubyte.gz to data/fashion-mnist/FashionMNIST/raw\n",
            "\n",
            "Downloading http://fashion-mnist.s3-website.eu-central-1.amazonaws.com/t10k-images-idx3-ubyte.gz\n",
            "Downloading http://fashion-mnist.s3-website.eu-central-1.amazonaws.com/t10k-images-idx3-ubyte.gz to data/fashion-mnist/FashionMNIST/raw/t10k-images-idx3-ubyte.gz\n"
          ]
        },
        {
          "output_type": "stream",
          "name": "stderr",
          "text": [
            "100%|██████████| 4422102/4422102 [00:01<00:00, 2629805.21it/s]\n"
          ]
        },
        {
          "output_type": "stream",
          "name": "stdout",
          "text": [
            "Extracting data/fashion-mnist/FashionMNIST/raw/t10k-images-idx3-ubyte.gz to data/fashion-mnist/FashionMNIST/raw\n",
            "\n",
            "Downloading http://fashion-mnist.s3-website.eu-central-1.amazonaws.com/t10k-labels-idx1-ubyte.gz\n",
            "Downloading http://fashion-mnist.s3-website.eu-central-1.amazonaws.com/t10k-labels-idx1-ubyte.gz to data/fashion-mnist/FashionMNIST/raw/t10k-labels-idx1-ubyte.gz\n"
          ]
        },
        {
          "output_type": "stream",
          "name": "stderr",
          "text": [
            "100%|██████████| 5148/5148 [00:00<00:00, 13444755.29it/s]\n"
          ]
        },
        {
          "output_type": "stream",
          "name": "stdout",
          "text": [
            "Extracting data/fashion-mnist/FashionMNIST/raw/t10k-labels-idx1-ubyte.gz to data/fashion-mnist/FashionMNIST/raw\n",
            "\n"
          ]
        },
        {
          "output_type": "display_data",
          "data": {
            "text/plain": [
              "<Figure size 1000x500 with 11 Axes>"
            ],
            "image/png": "[encoded data removed]"
          },
          "metadata": {}
        }
      ]
    },
    {
      "cell_type": "code",
      "source": [
        "import torch\n",
        "import torch.nn as nn\n",
        "import torch.nn.functional as F\n",
        "\n",
        "class TwoLayerfnn(nn.Module):\n",
        "    def __init__(self, input_size, hidden_size, output_size):\n",
        "        super(TwoLayerfnn, self).__init__()\n",
        "        self.fc1 = nn.Linear(input_size, hidden_size)\n",
        "        self.fc2 = nn.Linear(hidden_size, output_size)\n",
        "\n",
        "    def forward(self, x):\n",
        "        x = x.view(x.size(0), -1)  # Flatten the input\n",
        "        x = F.relu(self.fc1(x))\n",
        "        x = self.fc2(x)\n",
        "        return F.log_softmax(x, dim=1)# Applying log softmax to get probabilities"
      ],
      "metadata": {
        "id": "-ErQhCJaOuMV"
      },
      "execution_count": 4,
      "outputs": []
    },
    {
      "cell_type": "code",
      "source": [
        "input_size = 28 * 28  # input images are 28x28\n",
        "hidden_size = 128  # Number of neurons in the hidden layer\n",
        "output_size = 10  # Fashion MNIST has 10 classes\n",
        "\n",
        "# Create an instance of the TwoLayerFNN\n",
        "model = TwoLayerfnn(input_size, hidden_size, output_size)\n",
        "\n",
        "# Count the number of parameters\n",
        "num_params = sum(p.numel() for p in model.parameters() if p.requires_grad)\n",
        "print(f\"There are {num_params} parameters in this TwoLayerFNN.\")"
      ],
      "metadata": {
        "colab": {
          "base_uri": "https://localhost:8080/"
        },
        "id": "4Bs2srxXO1i3",
        "outputId": "92ba96b1-abee-4aab-ced7-028664d9fefa"
      },
      "execution_count": 5,
      "outputs": [
        {
          "output_type": "stream",
          "name": "stdout",
          "text": [
            "There are 101770 parameters in this TwoLayerFNN.\n"
          ]
        }
      ]
    },
    {
      "cell_type": "code",
      "source": [
        "print(model)"
      ],
      "metadata": {
        "colab": {
          "base_uri": "https://localhost:8080/"
        },
        "id": "nmtumoYxO4fM",
        "outputId": "7d1944f2-1fa4-48d0-f417-a1eb0123c6bf"
      },
      "execution_count": 6,
      "outputs": [
        {
          "output_type": "stream",
          "name": "stdout",
          "text": [
            "TwoLayerfnn(\n",
            "  (fc1): Linear(in_features=784, out_features=128, bias=True)\n",
            "  (fc2): Linear(in_features=128, out_features=10, bias=True)\n",
            ")\n"
          ]
        }
      ]
    },
    {
      "cell_type": "code",
      "source": [
        "import random\n",
        "\n",
        "# Get a random image and its label from the training set\n",
        "random_idx = random.randint(0, len(train_dataset) - 1)\n",
        "image, label = train_dataset[random_idx]\n",
        "image_tensor = transform(image).unsqueeze(0)  # Convert PIL image to tensor and add a batch dimension\n",
        "\n",
        "# Forward pass through the model\n",
        "output_probs = model(image_tensor)\n",
        "\n",
        "# Convert output probabilities to numpy array\n",
        "output_probs_np = output_probs.exp().detach().numpy()\n",
        "\n",
        "# Display the output probabilities\n",
        "print(f\"Output Probabilities: {output_probs_np}\")\n"
      ],
      "metadata": {
        "colab": {
          "base_uri": "https://localhost:8080/"
        },
        "id": "pTniRVneO7rh",
        "outputId": "2505ff57-295d-4a1e-8f0d-4e75dc06e3ee"
      },
      "execution_count": 7,
      "outputs": [
        {
          "output_type": "stream",
          "name": "stdout",
          "text": [
            "Output Probabilities: [[0.11228405 0.10636965 0.1289504  0.10121153 0.07655849 0.0622616\n",
            "  0.09159265 0.10573228 0.09742921 0.11761021]]\n"
          ]
        }
      ]
    },
    {
      "cell_type": "code",
      "source": [
        "import torch.optim as optim\n",
        "from torch.utils.data import DataLoader\n",
        "\n",
        "transform = transforms.Compose([\n",
        "    transforms.ToTensor(),  # Convert PIL image to tensor\n",
        "\n",
        "])\n",
        "\n",
        "# Update train_dataset with the new transformation\n",
        "train_dataset = torchvision.datasets.FashionMNIST(root='./data', train=True, download=True, transform=transform)\n",
        "\n",
        "# Define DataLoader for the training set\n",
        "batch_size = 64\n",
        "train_loader = DataLoader(train_dataset, batch_size=batch_size, shuffle=True)\n",
        "\n",
        "# Define criterion (loss function) and optimizer\n",
        "criterion = nn.CrossEntropyLoss()  # Cross-entropy loss for classification\n",
        "optimizer = optim.SGD(model.parameters(), lr=0.01)"
      ],
      "metadata": {
        "colab": {
          "base_uri": "https://localhost:8080/"
        },
        "id": "096XGwu2O_TW",
        "outputId": "96eca377-991a-4c73-a913-2d1b08153525"
      },
      "execution_count": 8,
      "outputs": [
        {
          "output_type": "stream",
          "name": "stdout",
          "text": [
            "Downloading http://fashion-mnist.s3-website.eu-central-1.amazonaws.com/train-images-idx3-ubyte.gz\n",
            "Downloading http://fashion-mnist.s3-website.eu-central-1.amazonaws.com/train-images-idx3-ubyte.gz to ./data/FashionMNIST/raw/train-images-idx3-ubyte.gz\n"
          ]
        },
        {
          "output_type": "stream",
          "name": "stderr",
          "text": [
            "100%|██████████| 26421880/26421880 [00:13<00:00, 1888387.18it/s]\n"
          ]
        },
        {
          "output_type": "stream",
          "name": "stdout",
          "text": [
            "Extracting ./data/FashionMNIST/raw/train-images-idx3-ubyte.gz to ./data/FashionMNIST/raw\n",
            "\n",
            "Downloading http://fashion-mnist.s3-website.eu-central-1.amazonaws.com/train-labels-idx1-ubyte.gz\n",
            "Downloading http://fashion-mnist.s3-website.eu-central-1.amazonaws.com/train-labels-idx1-ubyte.gz to ./data/FashionMNIST/raw/train-labels-idx1-ubyte.gz\n"
          ]
        },
        {
          "output_type": "stream",
          "name": "stderr",
          "text": [
            "100%|██████████| 29515/29515 [00:00<00:00, 138180.59it/s]\n"
          ]
        },
        {
          "output_type": "stream",
          "name": "stdout",
          "text": [
            "Extracting ./data/FashionMNIST/raw/train-labels-idx1-ubyte.gz to ./data/FashionMNIST/raw\n",
            "\n",
            "Downloading http://fashion-mnist.s3-website.eu-central-1.amazonaws.com/t10k-images-idx3-ubyte.gz\n",
            "Downloading http://fashion-mnist.s3-website.eu-central-1.amazonaws.com/t10k-images-idx3-ubyte.gz to ./data/FashionMNIST/raw/t10k-images-idx3-ubyte.gz\n"
          ]
        },
        {
          "output_type": "stream",
          "name": "stderr",
          "text": [
            "100%|██████████| 4422102/4422102 [00:01<00:00, 2554813.94it/s]\n"
          ]
        },
        {
          "output_type": "stream",
          "name": "stdout",
          "text": [
            "Extracting ./data/FashionMNIST/raw/t10k-images-idx3-ubyte.gz to ./data/FashionMNIST/raw\n",
            "\n",
            "Downloading http://fashion-mnist.s3-website.eu-central-1.amazonaws.com/t10k-labels-idx1-ubyte.gz\n",
            "Downloading http://fashion-mnist.s3-website.eu-central-1.amazonaws.com/t10k-labels-idx1-ubyte.gz to ./data/FashionMNIST/raw/t10k-labels-idx1-ubyte.gz\n"
          ]
        },
        {
          "output_type": "stream",
          "name": "stderr",
          "text": [
            "100%|██████████| 5148/5148 [00:00<00:00, 16186114.69it/s]"
          ]
        },
        {
          "output_type": "stream",
          "name": "stdout",
          "text": [
            "Extracting ./data/FashionMNIST/raw/t10k-labels-idx1-ubyte.gz to ./data/FashionMNIST/raw\n",
            "\n"
          ]
        },
        {
          "output_type": "stream",
          "name": "stderr",
          "text": [
            "\n"
          ]
        }
      ]
    },
    {
      "cell_type": "code",
      "source": [
        "num_epochs = 7\n",
        "for epoch in range(num_epochs):\n",
        "    running_loss = 0.0\n",
        "    for i, data in enumerate(train_loader, 0):\n",
        "        inputs, labels = data\n",
        "        optimizer.zero_grad()\n",
        "\n",
        "        outputs = model(inputs)\n",
        "        loss = criterion(outputs, labels)\n",
        "        loss.backward()\n",
        "        optimizer.step()\n",
        "\n",
        "        running_loss += loss.item()\n",
        "        if i % 300 == 299:  # Print every 100 mini-batches\n",
        "            print(f\"Epoch [{epoch + 1}/{num_epochs}], \"\n",
        "                  f\"Step [{i + 1}/{len(train_loader)}], \"\n",
        "                  f\"Loss: {running_loss / 100:.4f}\")\n",
        "            running_loss = 0.0\n",
        "\n",
        "print('Finished Training')"
      ],
      "metadata": {
        "colab": {
          "base_uri": "https://localhost:8080/"
        },
        "id": "bE0W-7SxPFN5",
        "outputId": "80920eba-bfde-49e7-d772-404f6ac2db11"
      },
      "execution_count": 10,
      "outputs": [
        {
          "output_type": "stream",
          "name": "stdout",
          "text": [
            "Epoch [1/7], Step [300/938], Loss: 5.1140\n",
            "Epoch [1/7], Step [600/938], Loss: 3.0109\n",
            "Epoch [1/7], Step [900/938], Loss: 2.4415\n",
            "Epoch [2/7], Step [300/938], Loss: 2.1356\n",
            "Epoch [2/7], Step [600/938], Loss: 2.0033\n",
            "Epoch [2/7], Step [900/938], Loss: 1.8836\n",
            "Epoch [3/7], Step [300/938], Loss: 1.7805\n",
            "Epoch [3/7], Step [600/938], Loss: 1.7298\n",
            "Epoch [3/7], Step [900/938], Loss: 1.6606\n",
            "Epoch [4/7], Step [300/938], Loss: 1.6185\n",
            "Epoch [4/7], Step [600/938], Loss: 1.5783\n",
            "Epoch [4/7], Step [900/938], Loss: 1.5678\n",
            "Epoch [5/7], Step [300/938], Loss: 1.5132\n",
            "Epoch [5/7], Step [600/938], Loss: 1.5135\n",
            "Epoch [5/7], Step [900/938], Loss: 1.4774\n",
            "Epoch [6/7], Step [300/938], Loss: 1.4447\n",
            "Epoch [6/7], Step [600/938], Loss: 1.4526\n",
            "Epoch [6/7], Step [900/938], Loss: 1.4417\n",
            "Epoch [7/7], Step [300/938], Loss: 1.4331\n",
            "Epoch [7/7], Step [600/938], Loss: 1.3783\n",
            "Epoch [7/7], Step [900/938], Loss: 1.3869\n",
            "Finished Training\n"
          ]
        }
      ]
    },
    {
      "cell_type": "code",
      "source": [
        "test_transform = transforms.Compose([\n",
        "    transforms.ToTensor(),\n",
        "])\n",
        "test_dataset = torchvision.datasets.FashionMNIST(root='./data', train=False, download=True, transform=test_transform)\n",
        "random_idx = random.randint(0, len(test_dataset) - 1)\n",
        "test_img, test_label = test_dataset[random_idx]"
      ],
      "metadata": {
        "id": "jRexVcDgPPQN"
      },
      "execution_count": 11,
      "outputs": []
    },
    {
      "cell_type": "code",
      "source": [
        "from torchvision import transforms as T\n",
        "test_image_tensor =test_img\n",
        "\n",
        "\n",
        "model.eval()\n",
        "with torch.no_grad():\n",
        "    output_probs = model(test_image_tensor)\n",
        "\n",
        "# Convert output probabilities to numpy array\n",
        "output_probs_np = output_probs.exp().detach().numpy()\n",
        "\n",
        "test_image_pil = T.ToPILImage()(test_img)\n",
        "# Display the test image and its predicted probabilities\n",
        "plt.imshow(test_image_pil, cmap='gray')\n",
        "plt.title(f\"True Label: {test_label}, Predicted Probabilities: {output_probs_np.squeeze()}\")\n",
        "plt.axis('off')\n",
        "plt.show()"
      ],
      "metadata": {
        "colab": {
          "base_uri": "https://localhost:8080/",
          "height": 449
        },
        "id": "9iuJo_00PqKn",
        "outputId": "8aaadb0f-c5ae-4697-a9b1-cf34afe51e22"
      },
      "execution_count": 12,
      "outputs": [
        {
          "output_type": "display_data",
          "data": {
            "text/plain": [
              "<Figure size 640x480 with 1 Axes>"
            ],
            "image/png": "[encoded data removed]"
          },
          "metadata": {}
        }
      ]
    },
    {
      "cell_type": "code",
      "source": [
        "from sklearn.metrics import accuracy_score, precision_score, recall_score, f1_score\n",
        "\n",
        "# List to store predictions and ground truth labels\n",
        "predicted_labels = []\n",
        "true_labels = []\n",
        "\n",
        "\n",
        "\n",
        "# Iterate through the test set and collect predictions\n",
        "for i in range(len(test_dataset)):\n",
        "    test_image, test_label = test_dataset[i]\n",
        "    test_image_tensor = test_img.unsqueeze(0)\n",
        "    # Forward pass through the trained model\n",
        "    with torch.no_grad():\n",
        "        output_probs = model(image_tensor)\n",
        "\n",
        "    # Get predicted label\n",
        "    predicted_label = output_probs.argmax(dim=1).item()\n",
        "\n",
        "    # Append predictions and true labels\n",
        "    predicted_labels.append(predicted_label)\n",
        "    true_labels.append(test_label)"
      ],
      "metadata": {
        "id": "F_HvSFNmPwNK"
      },
      "execution_count": 14,
      "outputs": []
    },
    {
      "cell_type": "code",
      "source": [
        "# Calculate accuracy\n",
        "accuracy = accuracy_score(true_labels, predicted_labels)\n",
        "\n",
        "# Calculate precision, recall, and F1 score\n",
        "precision = precision_score(true_labels, predicted_labels, average='weighted')\n",
        "recall = recall_score(true_labels, predicted_labels, average='weighted')\n",
        "f1 = f1_score(true_labels, predicted_labels, average='weighted')\n",
        "\n",
        "# Print the metrics\n",
        "print(f\"Accuracy: {accuracy:.4f}\")\n",
        "print(f\"Precision: {precision:.4f}\")\n",
        "print(f\"Recall: {recall:.4f}\")\n",
        "print(f\"F1 Score: {f1:.4f}\")"
      ],
      "metadata": {
        "colab": {
          "base_uri": "https://localhost:8080/"
        },
        "id": "4xwtqGUjP9li",
        "outputId": "77e650ad-98d8-4abd-9750-2481d79cac06"
      },
      "execution_count": 15,
      "outputs": [
        {
          "output_type": "stream",
          "name": "stdout",
          "text": [
            "Accuracy: 0.1000\n",
            "Precision: 0.0100\n",
            "Recall: 0.1000\n",
            "F1 Score: 0.0182\n"
          ]
        },
        {
          "output_type": "stream",
          "name": "stderr",
          "text": [
            "/usr/local/lib/python3.10/dist-packages/sklearn/metrics/_classification.py:1344: UndefinedMetricWarning: Precision is ill-defined and being set to 0.0 in labels with no predicted samples. Use `zero_division` parameter to control this behavior.\n",
            "  _warn_prf(average, modifier, msg_start, len(result))\n"
          ]
        }
      ]
    },
    {
      "cell_type": "markdown",
      "source": [
        "**task1**"
      ],
      "metadata": {
        "id": "PbdJeqwPQBMK"
      }
    },
    {
      "cell_type": "code",
      "source": [
        "# Read data in Python. Then explore it; display datatypes, and check for missing values. Do we need to use scaling?\n",
        "\n",
        "import pandas as pd\n",
        "from sklearn.tree import DecisionTreeClassifier\n",
        "from sklearn.tree import export_text\n",
        "from sklearn import tree\n",
        "\n",
        "train_data = pd.read_csv('satellite_training.csv')\n",
        "X_train = train_data.iloc[:, :-1]\n",
        "y_train = train_data['Class']\n",
        "\n",
        "satellite_df = pd.DataFrame(X_train, columns=[f'F{i}' for i in range(X_train.shape[1])])\n",
        "satellite_df['Class'] = y_train\n",
        "\n",
        "satellite_df.head()\n",
        "\n",
        "print(satellite_df.dtypes)\n",
        "\n",
        "print(\"\\nMissing values in the dataset:\")\n",
        "print(satellite_df.isnull().sum())\n"
      ],
      "metadata": {
        "colab": {
          "base_uri": "https://localhost:8080/"
        },
        "id": "p48vZjdaQDa7",
        "outputId": "533c095a-80e6-49bc-cfb5-6c02bcf83328"
      },
      "execution_count": 17,
      "outputs": [
        {
          "output_type": "stream",
          "name": "stdout",
          "text": [
            "F0       int64\n",
            "F1       int64\n",
            "F2       int64\n",
            "F3       int64\n",
            "F4       int64\n",
            "F5       int64\n",
            "F6       int64\n",
            "F7       int64\n",
            "F8       int64\n",
            "F9       int64\n",
            "F10      int64\n",
            "F11      int64\n",
            "F12      int64\n",
            "F13      int64\n",
            "F14      int64\n",
            "F15      int64\n",
            "F16      int64\n",
            "F17      int64\n",
            "F18      int64\n",
            "F19      int64\n",
            "F20      int64\n",
            "F21      int64\n",
            "F22      int64\n",
            "F23      int64\n",
            "F24      int64\n",
            "F25      int64\n",
            "F26      int64\n",
            "F27      int64\n",
            "F28      int64\n",
            "F29      int64\n",
            "F30      int64\n",
            "F31      int64\n",
            "F32      int64\n",
            "F33      int64\n",
            "F34      int64\n",
            "F35      int64\n",
            "Class    int64\n",
            "dtype: object\n",
            "\n",
            "Missing values in the dataset:\n",
            "F0       0\n",
            "F1       0\n",
            "F2       0\n",
            "F3       0\n",
            "F4       0\n",
            "F5       0\n",
            "F6       0\n",
            "F7       0\n",
            "F8       0\n",
            "F9       0\n",
            "F10      0\n",
            "F11      0\n",
            "F12      0\n",
            "F13      0\n",
            "F14      0\n",
            "F15      0\n",
            "F16      0\n",
            "F17      0\n",
            "F18      0\n",
            "F19      0\n",
            "F20      0\n",
            "F21      0\n",
            "F22      0\n",
            "F23      0\n",
            "F24      0\n",
            "F25      0\n",
            "F26      0\n",
            "F27      0\n",
            "F28      0\n",
            "F29      0\n",
            "F30      0\n",
            "F31      0\n",
            "F32      0\n",
            "F33      0\n",
            "F34      0\n",
            "F35      0\n",
            "Class    0\n",
            "dtype: int64\n"
          ]
        }
      ]
    },
    {
      "cell_type": "markdown",
      "source": [
        " We have no missing values\n",
        " No need to use scaling as the values don't differ too much"
      ],
      "metadata": {
        "id": "hiN42AQyRfQ5"
      }
    },
    {
      "cell_type": "code",
      "source": [
        "#building a basic decision tree classifier and fit it to the training data.\n",
        "from sklearn.model_selection import train_test_split\n",
        "from sklearn.tree import DecisionTreeClassifier\n",
        "from sklearn.metrics import accuracy_score, precision_score, recall_score, f1_score, classification_report\n",
        "\n",
        "test_data = pd.read_csv('satellite_test.csv')\n",
        "\n",
        "X_test = test_data.drop('Class', axis=1)\n",
        "y_test = test_data['Class']\n",
        "\n",
        "decision_tree = DecisionTreeClassifier()\n",
        "decision_tree = decision_tree.fit(X_train, y_train)\n",
        "\n",
        "y_pred = decision_tree.predict(X_test)\n",
        "\n",
        "accuracy = accuracy_score(y_test, y_pred)\n",
        "print(f'\\nAccuracy: {accuracy:.4f}')\n",
        "\n",
        "precision = precision_score(y_test, y_pred, average='weighted')\n",
        "print(f'Precision: {precision:.4f}')\n",
        "\n",
        "recall = recall_score(y_test, y_pred, average='weighted')\n",
        "print(f'Recall: {recall:.4f}')\n",
        "\n",
        "f1 = f1_score(y_test, y_pred, average='weighted')\n",
        "print(f'F1 Score: {f1:.4f}\\n\\n')\n",
        "\n",
        "tree_text = export_text(decision_tree, feature_names=list(X_train.columns))\n",
        "print(tree_text)"
      ],
      "metadata": {
        "colab": {
          "base_uri": "https://localhost:8080/"
        },
        "id": "PQzX_0ezRckp",
        "outputId": "c948c648-ac54-4109-f2db-16ad658ec386"
      },
      "execution_count": 18,
      "outputs": [
        {
          "output_type": "stream",
          "name": "stdout",
          "text": [
            "\n",
            "Accuracy: 0.8470\n",
            "Precision: 0.8487\n",
            "Recall: 0.8470\n",
            "F1 Score: 0.8478\n",
            "\n",
            "\n",
            "|--- F16 <= 79.50\n",
            "|   |--- F19 <= 73.50\n",
            "|   |   |--- F17 <= 61.50\n",
            "|   |   |   |--- F14 <= 109.00\n",
            "|   |   |   |   |--- F17 <= 59.50\n",
            "|   |   |   |   |   |--- class: 5\n",
            "|   |   |   |   |--- F17 >  59.50\n",
            "|   |   |   |   |   |--- F0 <= 51.00\n",
            "|   |   |   |   |   |   |--- F14 <= 76.00\n",
            "|   |   |   |   |   |   |   |--- class: 7\n",
            "|   |   |   |   |   |   |--- F14 >  76.00\n",
            "|   |   |   |   |   |   |   |--- class: 1\n",
            "|   |   |   |   |   |--- F0 >  51.00\n",
            "|   |   |   |   |   |   |--- F19 <= 57.50\n",
            "|   |   |   |   |   |   |   |--- F23 <= 55.00\n",
            "|   |   |   |   |   |   |   |   |--- class: 5\n",
            "|   |   |   |   |   |   |   |--- F23 >  55.00\n",
            "|   |   |   |   |   |   |   |   |--- class: 7\n",
            "|   |   |   |   |   |   |--- F19 >  57.50\n",
            "|   |   |   |   |   |   |   |--- class: 5\n",
            "|   |   |   |--- F14 >  109.00\n",
            "|   |   |   |   |--- class: 2\n",
            "|   |   |--- F17 >  61.50\n",
            "|   |   |   |--- F15 <= 65.50\n",
            "|   |   |   |   |--- F33 <= 62.50\n",
            "|   |   |   |   |   |--- F2 <= 73.50\n",
            "|   |   |   |   |   |   |--- F31 <= 68.50\n",
            "|   |   |   |   |   |   |   |--- class: 7\n",
            "|   |   |   |   |   |   |--- F31 >  68.50\n",
            "|   |   |   |   |   |   |   |--- class: 5\n",
            "|   |   |   |   |   |--- F2 >  73.50\n",
            "|   |   |   |   |   |   |--- F17 <= 71.50\n",
            "|   |   |   |   |   |   |   |--- F32 <= 54.50\n",
            "|   |   |   |   |   |   |   |   |--- F31 <= 53.50\n",
            "|   |   |   |   |   |   |   |   |   |--- class: 5\n",
            "|   |   |   |   |   |   |   |   |--- F31 >  53.50\n",
            "|   |   |   |   |   |   |   |   |   |--- class: 7\n",
            "|   |   |   |   |   |   |   |--- F32 >  54.50\n",
            "|   |   |   |   |   |   |   |   |--- class: 5\n",
            "|   |   |   |   |   |   |--- F17 >  71.50\n",
            "|   |   |   |   |   |   |   |--- F0 <= 69.00\n",
            "|   |   |   |   |   |   |   |   |--- class: 7\n",
            "|   |   |   |   |   |   |   |--- F0 >  69.00\n",
            "|   |   |   |   |   |   |   |   |--- F17 <= 76.00\n",
            "|   |   |   |   |   |   |   |   |   |--- class: 4\n",
            "|   |   |   |   |   |   |   |   |--- F17 >  76.00\n",
            "|   |   |   |   |   |   |   |   |   |--- class: 2\n",
            "|   |   |   |   |--- F33 >  62.50\n",
            "|   |   |   |   |   |--- F19 <= 68.50\n",
            "|   |   |   |   |   |   |--- F7 <= 50.00\n",
            "|   |   |   |   |   |   |   |--- class: 5\n",
            "|   |   |   |   |   |   |--- F7 >  50.00\n",
            "|   |   |   |   |   |   |   |--- F16 <= 57.50\n",
            "|   |   |   |   |   |   |   |   |--- class: 5\n",
            "|   |   |   |   |   |   |   |--- F16 >  57.50\n",
            "|   |   |   |   |   |   |   |   |--- F23 <= 48.50\n",
            "|   |   |   |   |   |   |   |   |   |--- class: 5\n",
            "|   |   |   |   |   |   |   |   |--- F23 >  48.50\n",
            "|   |   |   |   |   |   |   |   |   |--- F0 <= 52.50\n",
            "|   |   |   |   |   |   |   |   |   |   |--- class: 4\n",
            "|   |   |   |   |   |   |   |   |   |--- F0 >  52.50\n",
            "|   |   |   |   |   |   |   |   |   |   |--- F24 <= 83.50\n",
            "|   |   |   |   |   |   |   |   |   |   |   |--- truncated branch of depth 9\n",
            "|   |   |   |   |   |   |   |   |   |   |--- F24 >  83.50\n",
            "|   |   |   |   |   |   |   |   |   |   |   |--- truncated branch of depth 2\n",
            "|   |   |   |   |   |--- F19 >  68.50\n",
            "|   |   |   |   |   |   |--- F11 <= 91.50\n",
            "|   |   |   |   |   |   |   |--- F5 <= 74.00\n",
            "|   |   |   |   |   |   |   |   |--- F15 <= 62.50\n",
            "|   |   |   |   |   |   |   |   |   |--- class: 5\n",
            "|   |   |   |   |   |   |   |   |--- F15 >  62.50\n",
            "|   |   |   |   |   |   |   |   |   |--- F16 <= 56.50\n",
            "|   |   |   |   |   |   |   |   |   |   |--- class: 1\n",
            "|   |   |   |   |   |   |   |   |   |--- F16 >  56.50\n",
            "|   |   |   |   |   |   |   |   |   |   |--- F26 <= 87.50\n",
            "|   |   |   |   |   |   |   |   |   |   |   |--- class: 4\n",
            "|   |   |   |   |   |   |   |   |   |   |--- F26 >  87.50\n",
            "|   |   |   |   |   |   |   |   |   |   |   |--- class: 7\n",
            "|   |   |   |   |   |   |   |--- F5 >  74.00\n",
            "|   |   |   |   |   |   |   |   |--- F1 <= 87.50\n",
            "|   |   |   |   |   |   |   |   |   |--- F31 <= 58.00\n",
            "|   |   |   |   |   |   |   |   |   |   |--- class: 4\n",
            "|   |   |   |   |   |   |   |   |   |--- F31 >  58.00\n",
            "|   |   |   |   |   |   |   |   |   |   |--- class: 7\n",
            "|   |   |   |   |   |   |   |   |--- F1 >  87.50\n",
            "|   |   |   |   |   |   |   |   |   |--- class: 4\n",
            "|   |   |   |   |   |   |--- F11 >  91.50\n",
            "|   |   |   |   |   |   |   |--- class: 4\n",
            "|   |   |   |--- F15 >  65.50\n",
            "|   |   |   |   |--- F16 <= 59.50\n",
            "|   |   |   |   |   |--- F20 <= 57.50\n",
            "|   |   |   |   |   |   |--- class: 1\n",
            "|   |   |   |   |   |--- F20 >  57.50\n",
            "|   |   |   |   |   |   |--- F4 <= 55.50\n",
            "|   |   |   |   |   |   |   |--- class: 1\n",
            "|   |   |   |   |   |   |--- F4 >  55.50\n",
            "|   |   |   |   |   |   |   |--- class: 5\n",
            "|   |   |   |   |--- F16 >  59.50\n",
            "|   |   |   |   |   |--- F17 <= 82.00\n",
            "|   |   |   |   |   |   |--- F17 <= 72.50\n",
            "|   |   |   |   |   |   |   |--- F26 <= 79.50\n",
            "|   |   |   |   |   |   |   |   |--- F21 <= 63.50\n",
            "|   |   |   |   |   |   |   |   |   |--- class: 5\n",
            "|   |   |   |   |   |   |   |   |--- F21 >  63.50\n",
            "|   |   |   |   |   |   |   |   |   |--- F19 <= 69.50\n",
            "|   |   |   |   |   |   |   |   |   |   |--- class: 7\n",
            "|   |   |   |   |   |   |   |   |   |--- F19 >  69.50\n",
            "|   |   |   |   |   |   |   |   |   |   |--- class: 2\n",
            "|   |   |   |   |   |   |   |--- F26 >  79.50\n",
            "|   |   |   |   |   |   |   |   |--- F6 <= 87.50\n",
            "|   |   |   |   |   |   |   |   |   |--- F33 <= 80.00\n",
            "|   |   |   |   |   |   |   |   |   |   |--- F30 <= 78.50\n",
            "|   |   |   |   |   |   |   |   |   |   |   |--- truncated branch of depth 3\n",
            "|   |   |   |   |   |   |   |   |   |   |--- F30 >  78.50\n",
            "|   |   |   |   |   |   |   |   |   |   |   |--- class: 5\n",
            "|   |   |   |   |   |   |   |   |   |--- F33 >  80.00\n",
            "|   |   |   |   |   |   |   |   |   |   |--- F29 <= 81.00\n",
            "|   |   |   |   |   |   |   |   |   |   |   |--- class: 4\n",
            "|   |   |   |   |   |   |   |   |   |   |--- F29 >  81.00\n",
            "|   |   |   |   |   |   |   |   |   |   |   |--- class: 7\n",
            "|   |   |   |   |   |   |   |   |--- F6 >  87.50\n",
            "|   |   |   |   |   |   |   |   |   |--- F2 <= 102.50\n",
            "|   |   |   |   |   |   |   |   |   |   |--- class: 7\n",
            "|   |   |   |   |   |   |   |   |   |--- F2 >  102.50\n",
            "|   |   |   |   |   |   |   |   |   |   |--- F10 <= 90.00\n",
            "|   |   |   |   |   |   |   |   |   |   |   |--- class: 4\n",
            "|   |   |   |   |   |   |   |   |   |   |--- F10 >  90.00\n",
            "|   |   |   |   |   |   |   |   |   |   |   |--- class: 2\n",
            "|   |   |   |   |   |   |--- F17 >  72.50\n",
            "|   |   |   |   |   |   |   |--- F31 <= 78.50\n",
            "|   |   |   |   |   |   |   |   |--- F35 <= 49.50\n",
            "|   |   |   |   |   |   |   |   |   |--- class: 5\n",
            "|   |   |   |   |   |   |   |   |--- F35 >  49.50\n",
            "|   |   |   |   |   |   |   |   |   |--- F9 <= 55.50\n",
            "|   |   |   |   |   |   |   |   |   |   |--- F20 <= 69.50\n",
            "|   |   |   |   |   |   |   |   |   |   |   |--- class: 4\n",
            "|   |   |   |   |   |   |   |   |   |   |--- F20 >  69.50\n",
            "|   |   |   |   |   |   |   |   |   |   |   |--- class: 2\n",
            "|   |   |   |   |   |   |   |   |   |--- F9 >  55.50\n",
            "|   |   |   |   |   |   |   |   |   |   |--- F23 <= 73.50\n",
            "|   |   |   |   |   |   |   |   |   |   |   |--- truncated branch of depth 8\n",
            "|   |   |   |   |   |   |   |   |   |   |--- F23 >  73.50\n",
            "|   |   |   |   |   |   |   |   |   |   |   |--- truncated branch of depth 3\n",
            "|   |   |   |   |   |   |   |--- F31 >  78.50\n",
            "|   |   |   |   |   |   |   |   |--- F22 <= 87.50\n",
            "|   |   |   |   |   |   |   |   |   |--- F20 <= 63.50\n",
            "|   |   |   |   |   |   |   |   |   |   |--- class: 5\n",
            "|   |   |   |   |   |   |   |   |   |--- F20 >  63.50\n",
            "|   |   |   |   |   |   |   |   |   |   |--- class: 4\n",
            "|   |   |   |   |   |   |   |   |--- F22 >  87.50\n",
            "|   |   |   |   |   |   |   |   |   |--- class: 7\n",
            "|   |   |   |   |   |--- F17 >  82.00\n",
            "|   |   |   |   |   |   |--- F22 <= 86.50\n",
            "|   |   |   |   |   |   |   |--- F11 <= 47.00\n",
            "|   |   |   |   |   |   |   |   |--- class: 3\n",
            "|   |   |   |   |   |   |   |--- F11 >  47.00\n",
            "|   |   |   |   |   |   |   |   |--- F30 <= 71.50\n",
            "|   |   |   |   |   |   |   |   |   |--- class: 5\n",
            "|   |   |   |   |   |   |   |   |--- F30 >  71.50\n",
            "|   |   |   |   |   |   |   |   |   |--- F0 <= 78.50\n",
            "|   |   |   |   |   |   |   |   |   |   |--- F25 <= 85.50\n",
            "|   |   |   |   |   |   |   |   |   |   |   |--- truncated branch of depth 4\n",
            "|   |   |   |   |   |   |   |   |   |   |--- F25 >  85.50\n",
            "|   |   |   |   |   |   |   |   |   |   |   |--- truncated branch of depth 5\n",
            "|   |   |   |   |   |   |   |   |   |--- F0 >  78.50\n",
            "|   |   |   |   |   |   |   |   |   |   |--- F21 <= 84.50\n",
            "|   |   |   |   |   |   |   |   |   |   |   |--- class: 7\n",
            "|   |   |   |   |   |   |   |   |   |   |--- F21 >  84.50\n",
            "|   |   |   |   |   |   |   |   |   |   |   |--- class: 4\n",
            "|   |   |   |   |   |   |--- F22 >  86.50\n",
            "|   |   |   |   |   |   |   |--- F2 <= 85.50\n",
            "|   |   |   |   |   |   |   |   |--- F13 <= 88.50\n",
            "|   |   |   |   |   |   |   |   |   |--- class: 7\n",
            "|   |   |   |   |   |   |   |   |--- F13 >  88.50\n",
            "|   |   |   |   |   |   |   |   |   |--- F21 <= 80.00\n",
            "|   |   |   |   |   |   |   |   |   |   |--- class: 7\n",
            "|   |   |   |   |   |   |   |   |   |--- F21 >  80.00\n",
            "|   |   |   |   |   |   |   |   |   |   |--- class: 4\n",
            "|   |   |   |   |   |   |   |--- F2 >  85.50\n",
            "|   |   |   |   |   |   |   |   |--- F14 <= 99.00\n",
            "|   |   |   |   |   |   |   |   |   |--- F9 <= 83.50\n",
            "|   |   |   |   |   |   |   |   |   |   |--- F26 <= 89.00\n",
            "|   |   |   |   |   |   |   |   |   |   |   |--- truncated branch of depth 3\n",
            "|   |   |   |   |   |   |   |   |   |   |--- F26 >  89.00\n",
            "|   |   |   |   |   |   |   |   |   |   |   |--- truncated branch of depth 4\n",
            "|   |   |   |   |   |   |   |   |   |--- F9 >  83.50\n",
            "|   |   |   |   |   |   |   |   |   |   |--- F13 <= 81.00\n",
            "|   |   |   |   |   |   |   |   |   |   |   |--- class: 7\n",
            "|   |   |   |   |   |   |   |   |   |   |--- F13 >  81.00\n",
            "|   |   |   |   |   |   |   |   |   |   |   |--- truncated branch of depth 6\n",
            "|   |   |   |   |   |   |   |   |--- F14 >  99.00\n",
            "|   |   |   |   |   |   |   |   |   |--- F12 <= 79.50\n",
            "|   |   |   |   |   |   |   |   |   |   |--- class: 4\n",
            "|   |   |   |   |   |   |   |   |   |--- F12 >  79.50\n",
            "|   |   |   |   |   |   |   |   |   |   |--- class: 7\n",
            "|   |--- F19 >  73.50\n",
            "|   |   |--- F17 <= 65.00\n",
            "|   |   |   |--- F19 <= 90.50\n",
            "|   |   |   |   |--- F27 <= 100.50\n",
            "|   |   |   |   |   |--- F7 <= 97.00\n",
            "|   |   |   |   |   |   |--- F28 <= 49.50\n",
            "|   |   |   |   |   |   |   |--- F27 <= 88.50\n",
            "|   |   |   |   |   |   |   |   |--- class: 1\n",
            "|   |   |   |   |   |   |   |--- F27 >  88.50\n",
            "|   |   |   |   |   |   |   |   |--- class: 5\n",
            "|   |   |   |   |   |   |--- F28 >  49.50\n",
            "|   |   |   |   |   |   |   |--- class: 5\n",
            "|   |   |   |   |   |--- F7 >  97.00\n",
            "|   |   |   |   |   |   |--- F9 <= 52.00\n",
            "|   |   |   |   |   |   |   |--- class: 2\n",
            "|   |   |   |   |   |   |--- F9 >  52.00\n",
            "|   |   |   |   |   |   |   |--- class: 5\n",
            "|   |   |   |   |--- F27 >  100.50\n",
            "|   |   |   |   |   |--- class: 2\n",
            "|   |   |   |--- F19 >  90.50\n",
            "|   |   |   |   |--- F17 <= 59.50\n",
            "|   |   |   |   |   |--- F17 <= 55.50\n",
            "|   |   |   |   |   |   |--- class: 2\n",
            "|   |   |   |   |   |--- F17 >  55.50\n",
            "|   |   |   |   |   |   |--- F26 <= 99.00\n",
            "|   |   |   |   |   |   |   |--- F35 <= 108.00\n",
            "|   |   |   |   |   |   |   |   |--- class: 5\n",
            "|   |   |   |   |   |   |   |--- F35 >  108.00\n",
            "|   |   |   |   |   |   |   |   |--- class: 2\n",
            "|   |   |   |   |   |   |--- F26 >  99.00\n",
            "|   |   |   |   |   |   |   |--- class: 2\n",
            "|   |   |   |   |--- F17 >  59.50\n",
            "|   |   |   |   |   |--- F9 <= 51.50\n",
            "|   |   |   |   |   |   |--- class: 2\n",
            "|   |   |   |   |   |--- F9 >  51.50\n",
            "|   |   |   |   |   |   |--- F29 <= 50.00\n",
            "|   |   |   |   |   |   |   |--- class: 2\n",
            "|   |   |   |   |   |   |--- F29 >  50.00\n",
            "|   |   |   |   |   |   |   |--- class: 5\n",
            "|   |   |--- F17 >  65.00\n",
            "|   |   |   |--- F20 <= 73.00\n",
            "|   |   |   |   |--- F9 <= 66.50\n",
            "|   |   |   |   |   |--- F9 <= 51.50\n",
            "|   |   |   |   |   |   |--- F31 <= 86.50\n",
            "|   |   |   |   |   |   |   |--- F26 <= 84.50\n",
            "|   |   |   |   |   |   |   |   |--- F14 <= 102.50\n",
            "|   |   |   |   |   |   |   |   |   |--- class: 4\n",
            "|   |   |   |   |   |   |   |   |--- F14 >  102.50\n",
            "|   |   |   |   |   |   |   |   |   |--- class: 2\n",
            "|   |   |   |   |   |   |   |--- F26 >  84.50\n",
            "|   |   |   |   |   |   |   |   |--- F7 <= 121.50\n",
            "|   |   |   |   |   |   |   |   |   |--- class: 2\n",
            "|   |   |   |   |   |   |   |   |--- F7 >  121.50\n",
            "|   |   |   |   |   |   |   |   |   |--- class: 5\n",
            "|   |   |   |   |   |   |--- F31 >  86.50\n",
            "|   |   |   |   |   |   |   |--- class: 1\n",
            "|   |   |   |   |   |--- F9 >  51.50\n",
            "|   |   |   |   |   |   |--- F20 <= 54.50\n",
            "|   |   |   |   |   |   |   |--- class: 1\n",
            "|   |   |   |   |   |   |--- F20 >  54.50\n",
            "|   |   |   |   |   |   |   |--- F1 <= 76.00\n",
            "|   |   |   |   |   |   |   |   |--- F6 <= 72.00\n",
            "|   |   |   |   |   |   |   |   |   |--- class: 7\n",
            "|   |   |   |   |   |   |   |   |--- F6 >  72.00\n",
            "|   |   |   |   |   |   |   |   |   |--- class: 5\n",
            "|   |   |   |   |   |   |   |--- F1 >  76.00\n",
            "|   |   |   |   |   |   |   |   |--- F2 <= 94.50\n",
            "|   |   |   |   |   |   |   |   |   |--- F28 <= 73.00\n",
            "|   |   |   |   |   |   |   |   |   |   |--- F12 <= 69.50\n",
            "|   |   |   |   |   |   |   |   |   |   |   |--- truncated branch of depth 3\n",
            "|   |   |   |   |   |   |   |   |   |   |--- F12 >  69.50\n",
            "|   |   |   |   |   |   |   |   |   |   |   |--- class: 7\n",
            "|   |   |   |   |   |   |   |   |   |--- F28 >  73.00\n",
            "|   |   |   |   |   |   |   |   |   |   |--- class: 4\n",
            "|   |   |   |   |   |   |   |   |--- F2 >  94.50\n",
            "|   |   |   |   |   |   |   |   |   |--- F11 <= 73.00\n",
            "|   |   |   |   |   |   |   |   |   |   |--- F15 <= 92.00\n",
            "|   |   |   |   |   |   |   |   |   |   |   |--- class: 3\n",
            "|   |   |   |   |   |   |   |   |   |   |--- F15 >  92.00\n",
            "|   |   |   |   |   |   |   |   |   |   |   |--- class: 7\n",
            "|   |   |   |   |   |   |   |   |   |--- F11 >  73.00\n",
            "|   |   |   |   |   |   |   |   |   |   |--- class: 5\n",
            "|   |   |   |   |--- F9 >  66.50\n",
            "|   |   |   |   |   |--- F24 <= 75.50\n",
            "|   |   |   |   |   |   |--- F25 <= 65.00\n",
            "|   |   |   |   |   |   |   |--- F35 <= 100.00\n",
            "|   |   |   |   |   |   |   |   |--- F12 <= 54.50\n",
            "|   |   |   |   |   |   |   |   |   |--- F11 <= 91.50\n",
            "|   |   |   |   |   |   |   |   |   |   |--- class: 1\n",
            "|   |   |   |   |   |   |   |   |   |--- F11 >  91.50\n",
            "|   |   |   |   |   |   |   |   |   |   |--- class: 5\n",
            "|   |   |   |   |   |   |   |   |--- F12 >  54.50\n",
            "|   |   |   |   |   |   |   |   |   |--- F3 <= 97.50\n",
            "|   |   |   |   |   |   |   |   |   |   |--- class: 5\n",
            "|   |   |   |   |   |   |   |   |   |--- F3 >  97.50\n",
            "|   |   |   |   |   |   |   |   |   |   |--- class: 1\n",
            "|   |   |   |   |   |   |   |--- F35 >  100.00\n",
            "|   |   |   |   |   |   |   |   |--- class: 2\n",
            "|   |   |   |   |   |   |--- F25 >  65.00\n",
            "|   |   |   |   |   |   |   |--- F11 <= 72.50\n",
            "|   |   |   |   |   |   |   |   |--- F4 <= 64.50\n",
            "|   |   |   |   |   |   |   |   |   |--- F28 <= 76.00\n",
            "|   |   |   |   |   |   |   |   |   |   |--- class: 1\n",
            "|   |   |   |   |   |   |   |   |   |--- F28 >  76.00\n",
            "|   |   |   |   |   |   |   |   |   |   |--- class: 4\n",
            "|   |   |   |   |   |   |   |   |--- F4 >  64.50\n",
            "|   |   |   |   |   |   |   |   |   |--- F17 <= 78.00\n",
            "|   |   |   |   |   |   |   |   |   |   |--- class: 5\n",
            "|   |   |   |   |   |   |   |   |   |--- F17 >  78.00\n",
            "|   |   |   |   |   |   |   |   |   |   |--- F35 <= 70.00\n",
            "|   |   |   |   |   |   |   |   |   |   |   |--- class: 7\n",
            "|   |   |   |   |   |   |   |   |   |   |--- F35 >  70.00\n",
            "|   |   |   |   |   |   |   |   |   |   |   |--- truncated branch of depth 2\n",
            "|   |   |   |   |   |   |   |--- F11 >  72.50\n",
            "|   |   |   |   |   |   |   |   |--- F1 <= 65.00\n",
            "|   |   |   |   |   |   |   |   |   |--- F30 <= 90.50\n",
            "|   |   |   |   |   |   |   |   |   |   |--- F5 <= 70.50\n",
            "|   |   |   |   |   |   |   |   |   |   |   |--- class: 2\n",
            "|   |   |   |   |   |   |   |   |   |   |--- F5 >  70.50\n",
            "|   |   |   |   |   |   |   |   |   |   |   |--- class: 1\n",
            "|   |   |   |   |   |   |   |   |   |--- F30 >  90.50\n",
            "|   |   |   |   |   |   |   |   |   |   |--- class: 5\n",
            "|   |   |   |   |   |   |   |   |--- F1 >  65.00\n",
            "|   |   |   |   |   |   |   |   |   |--- F29 <= 65.00\n",
            "|   |   |   |   |   |   |   |   |   |   |--- F7 <= 85.00\n",
            "|   |   |   |   |   |   |   |   |   |   |   |--- truncated branch of depth 3\n",
            "|   |   |   |   |   |   |   |   |   |   |--- F7 >  85.00\n",
            "|   |   |   |   |   |   |   |   |   |   |   |--- class: 5\n",
            "|   |   |   |   |   |   |   |   |   |--- F29 >  65.00\n",
            "|   |   |   |   |   |   |   |   |   |   |--- F32 <= 71.50\n",
            "|   |   |   |   |   |   |   |   |   |   |   |--- truncated branch of depth 11\n",
            "|   |   |   |   |   |   |   |   |   |   |--- F32 >  71.50\n",
            "|   |   |   |   |   |   |   |   |   |   |   |--- truncated branch of depth 5\n",
            "|   |   |   |   |   |--- F24 >  75.50\n",
            "|   |   |   |   |   |   |--- F27 <= 88.50\n",
            "|   |   |   |   |   |   |   |--- F17 <= 80.00\n",
            "|   |   |   |   |   |   |   |   |--- F24 <= 81.00\n",
            "|   |   |   |   |   |   |   |   |   |--- class: 5\n",
            "|   |   |   |   |   |   |   |   |--- F24 >  81.00\n",
            "|   |   |   |   |   |   |   |   |   |--- F1 <= 85.00\n",
            "|   |   |   |   |   |   |   |   |   |   |--- class: 7\n",
            "|   |   |   |   |   |   |   |   |   |--- F1 >  85.00\n",
            "|   |   |   |   |   |   |   |   |   |   |--- F35 <= 95.50\n",
            "|   |   |   |   |   |   |   |   |   |   |   |--- class: 5\n",
            "|   |   |   |   |   |   |   |   |   |   |--- F35 >  95.50\n",
            "|   |   |   |   |   |   |   |   |   |   |   |--- class: 2\n",
            "|   |   |   |   |   |   |   |--- F17 >  80.00\n",
            "|   |   |   |   |   |   |   |   |--- F31 <= 80.50\n",
            "|   |   |   |   |   |   |   |   |   |--- F22 <= 99.00\n",
            "|   |   |   |   |   |   |   |   |   |   |--- class: 7\n",
            "|   |   |   |   |   |   |   |   |   |--- F22 >  99.00\n",
            "|   |   |   |   |   |   |   |   |   |   |--- class: 2\n",
            "|   |   |   |   |   |   |   |   |--- F31 >  80.50\n",
            "|   |   |   |   |   |   |   |   |   |--- F17 <= 90.00\n",
            "|   |   |   |   |   |   |   |   |   |   |--- class: 4\n",
            "|   |   |   |   |   |   |   |   |   |--- F17 >  90.00\n",
            "|   |   |   |   |   |   |   |   |   |   |--- F27 <= 84.00\n",
            "|   |   |   |   |   |   |   |   |   |   |   |--- class: 7\n",
            "|   |   |   |   |   |   |   |   |   |   |--- F27 >  84.00\n",
            "|   |   |   |   |   |   |   |   |   |   |   |--- class: 3\n",
            "|   |   |   |   |   |   |--- F27 >  88.50\n",
            "|   |   |   |   |   |   |   |--- F9 <= 76.00\n",
            "|   |   |   |   |   |   |   |   |--- F8 <= 65.00\n",
            "|   |   |   |   |   |   |   |   |   |--- class: 5\n",
            "|   |   |   |   |   |   |   |   |--- F8 >  65.00\n",
            "|   |   |   |   |   |   |   |   |   |--- class: 4\n",
            "|   |   |   |   |   |   |   |--- F9 >  76.00\n",
            "|   |   |   |   |   |   |   |   |--- F24 <= 85.00\n",
            "|   |   |   |   |   |   |   |   |   |--- F25 <= 95.50\n",
            "|   |   |   |   |   |   |   |   |   |   |--- F20 <= 63.50\n",
            "|   |   |   |   |   |   |   |   |   |   |   |--- class: 3\n",
            "|   |   |   |   |   |   |   |   |   |   |--- F20 >  63.50\n",
            "|   |   |   |   |   |   |   |   |   |   |   |--- truncated branch of depth 2\n",
            "|   |   |   |   |   |   |   |   |   |--- F25 >  95.50\n",
            "|   |   |   |   |   |   |   |   |   |   |--- class: 1\n",
            "|   |   |   |   |   |   |   |   |--- F24 >  85.00\n",
            "|   |   |   |   |   |   |   |   |   |--- F7 <= 93.00\n",
            "|   |   |   |   |   |   |   |   |   |   |--- class: 3\n",
            "|   |   |   |   |   |   |   |   |   |--- F7 >  93.00\n",
            "|   |   |   |   |   |   |   |   |   |   |--- class: 1\n",
            "|   |   |   |--- F20 >  73.00\n",
            "|   |   |   |   |--- F19 <= 89.00\n",
            "|   |   |   |   |   |--- F17 <= 96.50\n",
            "|   |   |   |   |   |   |--- F3 <= 70.50\n",
            "|   |   |   |   |   |   |   |--- F34 <= 115.50\n",
            "|   |   |   |   |   |   |   |   |--- F7 <= 80.50\n",
            "|   |   |   |   |   |   |   |   |   |--- F23 <= 71.50\n",
            "|   |   |   |   |   |   |   |   |   |   |--- F14 <= 87.50\n",
            "|   |   |   |   |   |   |   |   |   |   |   |--- class: 7\n",
            "|   |   |   |   |   |   |   |   |   |   |--- F14 >  87.50\n",
            "|   |   |   |   |   |   |   |   |   |   |   |--- class: 4\n",
            "|   |   |   |   |   |   |   |   |   |--- F23 >  71.50\n",
            "|   |   |   |   |   |   |   |   |   |   |--- class: 7\n",
            "|   |   |   |   |   |   |   |   |--- F7 >  80.50\n",
            "|   |   |   |   |   |   |   |   |   |--- class: 4\n",
            "|   |   |   |   |   |   |   |--- F34 >  115.50\n",
            "|   |   |   |   |   |   |   |   |--- F19 <= 85.00\n",
            "|   |   |   |   |   |   |   |   |   |--- class: 1\n",
            "|   |   |   |   |   |   |   |   |--- F19 >  85.00\n",
            "|   |   |   |   |   |   |   |   |   |--- class: 5\n",
            "|   |   |   |   |   |   |--- F3 >  70.50\n",
            "|   |   |   |   |   |   |   |--- F10 <= 103.00\n",
            "|   |   |   |   |   |   |   |   |--- F25 <= 84.50\n",
            "|   |   |   |   |   |   |   |   |   |--- F24 <= 72.50\n",
            "|   |   |   |   |   |   |   |   |   |   |--- F5 <= 87.50\n",
            "|   |   |   |   |   |   |   |   |   |   |   |--- truncated branch of depth 4\n",
            "|   |   |   |   |   |   |   |   |   |   |--- F5 >  87.50\n",
            "|   |   |   |   |   |   |   |   |   |   |   |--- truncated branch of depth 2\n",
            "|   |   |   |   |   |   |   |   |   |--- F24 >  72.50\n",
            "|   |   |   |   |   |   |   |   |   |   |--- class: 7\n",
            "|   |   |   |   |   |   |   |   |--- F25 >  84.50\n",
            "|   |   |   |   |   |   |   |   |   |--- F34 <= 111.00\n",
            "|   |   |   |   |   |   |   |   |   |   |--- F9 <= 61.00\n",
            "|   |   |   |   |   |   |   |   |   |   |   |--- class: 3\n",
            "|   |   |   |   |   |   |   |   |   |   |--- F9 >  61.00\n",
            "|   |   |   |   |   |   |   |   |   |   |   |--- truncated branch of depth 6\n",
            "|   |   |   |   |   |   |   |   |   |--- F34 >  111.00\n",
            "|   |   |   |   |   |   |   |   |   |   |--- F18 <= 101.50\n",
            "|   |   |   |   |   |   |   |   |   |   |   |--- truncated branch of depth 2\n",
            "|   |   |   |   |   |   |   |   |   |   |--- F18 >  101.50\n",
            "|   |   |   |   |   |   |   |   |   |   |   |--- class: 3\n",
            "|   |   |   |   |   |   |   |--- F10 >  103.00\n",
            "|   |   |   |   |   |   |   |   |--- F12 <= 52.50\n",
            "|   |   |   |   |   |   |   |   |   |--- class: 2\n",
            "|   |   |   |   |   |   |   |   |--- F12 >  52.50\n",
            "|   |   |   |   |   |   |   |   |   |--- F27 <= 77.50\n",
            "|   |   |   |   |   |   |   |   |   |   |--- F20 <= 77.00\n",
            "|   |   |   |   |   |   |   |   |   |   |   |--- truncated branch of depth 2\n",
            "|   |   |   |   |   |   |   |   |   |   |--- F20 >  77.00\n",
            "|   |   |   |   |   |   |   |   |   |   |   |--- truncated branch of depth 5\n",
            "|   |   |   |   |   |   |   |   |   |--- F27 >  77.50\n",
            "|   |   |   |   |   |   |   |   |   |   |--- F5 <= 97.50\n",
            "|   |   |   |   |   |   |   |   |   |   |   |--- truncated branch of depth 3\n",
            "|   |   |   |   |   |   |   |   |   |   |--- F5 >  97.50\n",
            "|   |   |   |   |   |   |   |   |   |   |   |--- truncated branch of depth 3\n",
            "|   |   |   |   |   |--- F17 >  96.50\n",
            "|   |   |   |   |   |   |--- F28 <= 77.00\n",
            "|   |   |   |   |   |   |   |--- F29 <= 101.50\n",
            "|   |   |   |   |   |   |   |   |--- F35 <= 84.00\n",
            "|   |   |   |   |   |   |   |   |   |--- F19 <= 77.50\n",
            "|   |   |   |   |   |   |   |   |   |   |--- F9 <= 90.00\n",
            "|   |   |   |   |   |   |   |   |   |   |   |--- class: 4\n",
            "|   |   |   |   |   |   |   |   |   |   |--- F9 >  90.00\n",
            "|   |   |   |   |   |   |   |   |   |   |   |--- class: 7\n",
            "|   |   |   |   |   |   |   |   |   |--- F19 >  77.50\n",
            "|   |   |   |   |   |   |   |   |   |   |--- class: 4\n",
            "|   |   |   |   |   |   |   |   |--- F35 >  84.00\n",
            "|   |   |   |   |   |   |   |   |   |--- F9 <= 95.50\n",
            "|   |   |   |   |   |   |   |   |   |   |--- class: 4\n",
            "|   |   |   |   |   |   |   |   |   |--- F9 >  95.50\n",
            "|   |   |   |   |   |   |   |   |   |   |--- class: 3\n",
            "|   |   |   |   |   |   |   |--- F29 >  101.50\n",
            "|   |   |   |   |   |   |   |   |--- class: 1\n",
            "|   |   |   |   |   |   |--- F28 >  77.00\n",
            "|   |   |   |   |   |   |   |--- F0 <= 85.00\n",
            "|   |   |   |   |   |   |   |   |--- F7 <= 73.00\n",
            "|   |   |   |   |   |   |   |   |   |--- class: 4\n",
            "|   |   |   |   |   |   |   |   |--- F7 >  73.00\n",
            "|   |   |   |   |   |   |   |   |   |--- class: 3\n",
            "|   |   |   |   |   |   |   |--- F0 >  85.00\n",
            "|   |   |   |   |   |   |   |   |--- class: 4\n",
            "|   |   |   |   |--- F19 >  89.00\n",
            "|   |   |   |   |   |--- F17 <= 101.00\n",
            "|   |   |   |   |   |   |--- F15 <= 90.50\n",
            "|   |   |   |   |   |   |   |--- F22 <= 116.00\n",
            "|   |   |   |   |   |   |   |   |--- class: 1\n",
            "|   |   |   |   |   |   |   |--- F22 >  116.00\n",
            "|   |   |   |   |   |   |   |   |--- class: 3\n",
            "|   |   |   |   |   |   |--- F15 >  90.50\n",
            "|   |   |   |   |   |   |   |--- F29 <= 100.50\n",
            "|   |   |   |   |   |   |   |   |--- class: 5\n",
            "|   |   |   |   |   |   |   |--- F29 >  100.50\n",
            "|   |   |   |   |   |   |   |   |--- class: 1\n",
            "|   |   |   |   |   |--- F17 >  101.00\n",
            "|   |   |   |   |   |   |--- F12 <= 82.00\n",
            "|   |   |   |   |   |   |   |--- F7 <= 82.00\n",
            "|   |   |   |   |   |   |   |   |--- class: 3\n",
            "|   |   |   |   |   |   |   |--- F7 >  82.00\n",
            "|   |   |   |   |   |   |   |   |--- class: 1\n",
            "|   |   |   |   |   |   |--- F12 >  82.00\n",
            "|   |   |   |   |   |   |   |--- class: 3\n",
            "|--- F16 >  79.50\n",
            "|   |--- F17 <= 96.50\n",
            "|   |   |--- F10 <= 100.50\n",
            "|   |   |   |--- F30 <= 107.00\n",
            "|   |   |   |   |--- F29 <= 87.50\n",
            "|   |   |   |   |   |--- F14 <= 97.00\n",
            "|   |   |   |   |   |   |--- F17 <= 90.00\n",
            "|   |   |   |   |   |   |   |--- F9 <= 86.50\n",
            "|   |   |   |   |   |   |   |   |--- class: 7\n",
            "|   |   |   |   |   |   |   |--- F9 >  86.50\n",
            "|   |   |   |   |   |   |   |   |--- class: 4\n",
            "|   |   |   |   |   |   |--- F17 >  90.00\n",
            "|   |   |   |   |   |   |   |--- class: 4\n",
            "|   |   |   |   |   |--- F14 >  97.00\n",
            "|   |   |   |   |   |   |--- class: 7\n",
            "|   |   |   |   |--- F29 >  87.50\n",
            "|   |   |   |   |   |--- F34 <= 107.00\n",
            "|   |   |   |   |   |   |--- F18 <= 101.50\n",
            "|   |   |   |   |   |   |   |--- F22 <= 85.50\n",
            "|   |   |   |   |   |   |   |   |--- class: 7\n",
            "|   |   |   |   |   |   |   |--- F22 >  85.50\n",
            "|   |   |   |   |   |   |   |   |--- F1 <= 84.00\n",
            "|   |   |   |   |   |   |   |   |   |--- class: 7\n",
            "|   |   |   |   |   |   |   |   |--- F1 >  84.00\n",
            "|   |   |   |   |   |   |   |   |   |--- F2 <= 108.50\n",
            "|   |   |   |   |   |   |   |   |   |   |--- F34 <= 84.00\n",
            "|   |   |   |   |   |   |   |   |   |   |   |--- class: 7\n",
            "|   |   |   |   |   |   |   |   |   |   |--- F34 >  84.00\n",
            "|   |   |   |   |   |   |   |   |   |   |   |--- class: 4\n",
            "|   |   |   |   |   |   |   |   |   |--- F2 >  108.50\n",
            "|   |   |   |   |   |   |   |   |   |   |--- class: 3\n",
            "|   |   |   |   |   |   |--- F18 >  101.50\n",
            "|   |   |   |   |   |   |   |--- F8 <= 83.00\n",
            "|   |   |   |   |   |   |   |   |--- F24 <= 80.50\n",
            "|   |   |   |   |   |   |   |   |   |--- F28 <= 81.00\n",
            "|   |   |   |   |   |   |   |   |   |   |--- class: 4\n",
            "|   |   |   |   |   |   |   |   |   |--- F28 >  81.00\n",
            "|   |   |   |   |   |   |   |   |   |   |--- class: 7\n",
            "|   |   |   |   |   |   |   |   |--- F24 >  80.50\n",
            "|   |   |   |   |   |   |   |   |   |--- class: 3\n",
            "|   |   |   |   |   |   |   |--- F8 >  83.00\n",
            "|   |   |   |   |   |   |   |   |--- class: 4\n",
            "|   |   |   |   |   |--- F34 >  107.00\n",
            "|   |   |   |   |   |   |--- class: 7\n",
            "|   |   |   |--- F30 >  107.00\n",
            "|   |   |   |   |--- F10 <= 89.50\n",
            "|   |   |   |   |   |--- F31 <= 84.50\n",
            "|   |   |   |   |   |   |--- class: 7\n",
            "|   |   |   |   |   |--- F31 >  84.50\n",
            "|   |   |   |   |   |   |--- F5 <= 77.00\n",
            "|   |   |   |   |   |   |   |--- class: 5\n",
            "|   |   |   |   |   |   |--- F5 >  77.00\n",
            "|   |   |   |   |   |   |   |--- class: 3\n",
            "|   |   |   |   |--- F10 >  89.50\n",
            "|   |   |   |   |   |--- class: 3\n",
            "|   |   |--- F10 >  100.50\n",
            "|   |   |   |--- F26 <= 94.50\n",
            "|   |   |   |   |--- F25 <= 80.00\n",
            "|   |   |   |   |   |--- F24 <= 67.50\n",
            "|   |   |   |   |   |   |--- class: 4\n",
            "|   |   |   |   |   |--- F24 >  67.50\n",
            "|   |   |   |   |   |   |--- class: 3\n",
            "|   |   |   |   |--- F25 >  80.00\n",
            "|   |   |   |   |   |--- class: 7\n",
            "|   |   |   |--- F26 >  94.50\n",
            "|   |   |   |   |--- F7 <= 77.00\n",
            "|   |   |   |   |   |--- F22 <= 101.50\n",
            "|   |   |   |   |   |   |--- class: 4\n",
            "|   |   |   |   |   |--- F22 >  101.50\n",
            "|   |   |   |   |   |   |--- F11 <= 77.50\n",
            "|   |   |   |   |   |   |   |--- class: 3\n",
            "|   |   |   |   |   |   |--- F11 >  77.50\n",
            "|   |   |   |   |   |   |   |--- class: 7\n",
            "|   |   |   |   |--- F7 >  77.00\n",
            "|   |   |   |   |   |--- F35 <= 75.50\n",
            "|   |   |   |   |   |   |--- class: 7\n",
            "|   |   |   |   |   |--- F35 >  75.50\n",
            "|   |   |   |   |   |   |--- F20 <= 79.00\n",
            "|   |   |   |   |   |   |   |--- F8 <= 82.00\n",
            "|   |   |   |   |   |   |   |   |--- class: 1\n",
            "|   |   |   |   |   |   |   |--- F8 >  82.00\n",
            "|   |   |   |   |   |   |   |   |--- class: 4\n",
            "|   |   |   |   |   |   |--- F20 >  79.00\n",
            "|   |   |   |   |   |   |   |--- F4 <= 90.50\n",
            "|   |   |   |   |   |   |   |   |--- F14 <= 93.50\n",
            "|   |   |   |   |   |   |   |   |   |--- class: 7\n",
            "|   |   |   |   |   |   |   |   |--- F14 >  93.50\n",
            "|   |   |   |   |   |   |   |   |   |--- F27 <= 78.50\n",
            "|   |   |   |   |   |   |   |   |   |   |--- F18 <= 101.00\n",
            "|   |   |   |   |   |   |   |   |   |   |   |--- class: 3\n",
            "|   |   |   |   |   |   |   |   |   |   |--- F18 >  101.00\n",
            "|   |   |   |   |   |   |   |   |   |   |   |--- class: 7\n",
            "|   |   |   |   |   |   |   |   |   |--- F27 >  78.50\n",
            "|   |   |   |   |   |   |   |   |   |   |--- class: 3\n",
            "|   |   |   |   |   |   |   |--- F4 >  90.50\n",
            "|   |   |   |   |   |   |   |   |--- class: 4\n",
            "|   |--- F17 >  96.50\n",
            "|   |   |--- F32 <= 85.50\n",
            "|   |   |   |--- F15 <= 98.50\n",
            "|   |   |   |   |--- F2 <= 96.50\n",
            "|   |   |   |   |   |--- F22 <= 104.50\n",
            "|   |   |   |   |   |   |--- F15 <= 80.50\n",
            "|   |   |   |   |   |   |   |--- F11 <= 81.50\n",
            "|   |   |   |   |   |   |   |   |--- class: 7\n",
            "|   |   |   |   |   |   |   |--- F11 >  81.50\n",
            "|   |   |   |   |   |   |   |   |--- F25 <= 92.50\n",
            "|   |   |   |   |   |   |   |   |   |--- class: 3\n",
            "|   |   |   |   |   |   |   |   |--- F25 >  92.50\n",
            "|   |   |   |   |   |   |   |   |   |--- class: 4\n",
            "|   |   |   |   |   |   |--- F15 >  80.50\n",
            "|   |   |   |   |   |   |   |--- class: 4\n",
            "|   |   |   |   |   |--- F22 >  104.50\n",
            "|   |   |   |   |   |   |--- F26 <= 100.50\n",
            "|   |   |   |   |   |   |   |--- class: 7\n",
            "|   |   |   |   |   |   |--- F26 >  100.50\n",
            "|   |   |   |   |   |   |   |--- class: 3\n",
            "|   |   |   |   |--- F2 >  96.50\n",
            "|   |   |   |   |   |--- F11 <= 89.50\n",
            "|   |   |   |   |   |   |--- F1 <= 103.50\n",
            "|   |   |   |   |   |   |   |--- F11 <= 84.00\n",
            "|   |   |   |   |   |   |   |   |--- F26 <= 101.50\n",
            "|   |   |   |   |   |   |   |   |   |--- F9 <= 96.50\n",
            "|   |   |   |   |   |   |   |   |   |   |--- F1 <= 98.50\n",
            "|   |   |   |   |   |   |   |   |   |   |   |--- truncated branch of depth 3\n",
            "|   |   |   |   |   |   |   |   |   |   |--- F1 >  98.50\n",
            "|   |   |   |   |   |   |   |   |   |   |   |--- class: 4\n",
            "|   |   |   |   |   |   |   |   |   |--- F9 >  96.50\n",
            "|   |   |   |   |   |   |   |   |   |   |--- F29 <= 99.50\n",
            "|   |   |   |   |   |   |   |   |   |   |   |--- truncated branch of depth 3\n",
            "|   |   |   |   |   |   |   |   |   |   |--- F29 >  99.50\n",
            "|   |   |   |   |   |   |   |   |   |   |   |--- class: 4\n",
            "|   |   |   |   |   |   |   |   |--- F26 >  101.50\n",
            "|   |   |   |   |   |   |   |   |   |--- F20 <= 83.50\n",
            "|   |   |   |   |   |   |   |   |   |   |--- F25 <= 97.50\n",
            "|   |   |   |   |   |   |   |   |   |   |   |--- truncated branch of depth 2\n",
            "|   |   |   |   |   |   |   |   |   |   |--- F25 >  97.50\n",
            "|   |   |   |   |   |   |   |   |   |   |   |--- class: 3\n",
            "|   |   |   |   |   |   |   |   |   |--- F20 >  83.50\n",
            "|   |   |   |   |   |   |   |   |   |   |--- F29 <= 98.50\n",
            "|   |   |   |   |   |   |   |   |   |   |   |--- truncated branch of depth 3\n",
            "|   |   |   |   |   |   |   |   |   |   |--- F29 >  98.50\n",
            "|   |   |   |   |   |   |   |   |   |   |   |--- truncated branch of depth 3\n",
            "|   |   |   |   |   |   |   |--- F11 >  84.00\n",
            "|   |   |   |   |   |   |   |   |--- class: 3\n",
            "|   |   |   |   |   |   |--- F1 >  103.50\n",
            "|   |   |   |   |   |   |   |--- F0 <= 87.50\n",
            "|   |   |   |   |   |   |   |   |--- F4 <= 79.50\n",
            "|   |   |   |   |   |   |   |   |   |--- class: 3\n",
            "|   |   |   |   |   |   |   |   |--- F4 >  79.50\n",
            "|   |   |   |   |   |   |   |   |   |--- F1 <= 106.50\n",
            "|   |   |   |   |   |   |   |   |   |   |--- F10 <= 104.50\n",
            "|   |   |   |   |   |   |   |   |   |   |   |--- class: 4\n",
            "|   |   |   |   |   |   |   |   |   |   |--- F10 >  104.50\n",
            "|   |   |   |   |   |   |   |   |   |   |   |--- truncated branch of depth 3\n",
            "|   |   |   |   |   |   |   |   |   |--- F1 >  106.50\n",
            "|   |   |   |   |   |   |   |   |   |   |--- class: 4\n",
            "|   |   |   |   |   |   |   |--- F0 >  87.50\n",
            "|   |   |   |   |   |   |   |   |--- F29 <= 83.50\n",
            "|   |   |   |   |   |   |   |   |   |--- class: 7\n",
            "|   |   |   |   |   |   |   |   |--- F29 >  83.50\n",
            "|   |   |   |   |   |   |   |   |   |--- F16 <= 84.50\n",
            "|   |   |   |   |   |   |   |   |   |   |--- F17 <= 104.50\n",
            "|   |   |   |   |   |   |   |   |   |   |   |--- truncated branch of depth 5\n",
            "|   |   |   |   |   |   |   |   |   |   |--- F17 >  104.50\n",
            "|   |   |   |   |   |   |   |   |   |   |   |--- truncated branch of depth 2\n",
            "|   |   |   |   |   |   |   |   |   |--- F16 >  84.50\n",
            "|   |   |   |   |   |   |   |   |   |   |--- F23 <= 73.00\n",
            "|   |   |   |   |   |   |   |   |   |   |   |--- class: 4\n",
            "|   |   |   |   |   |   |   |   |   |   |--- F23 >  73.00\n",
            "|   |   |   |   |   |   |   |   |   |   |   |--- truncated branch of depth 5\n",
            "|   |   |   |   |   |--- F11 >  89.50\n",
            "|   |   |   |   |   |   |--- F28 <= 70.50\n",
            "|   |   |   |   |   |   |   |--- F26 <= 93.00\n",
            "|   |   |   |   |   |   |   |   |--- F22 <= 103.00\n",
            "|   |   |   |   |   |   |   |   |   |--- class: 3\n",
            "|   |   |   |   |   |   |   |   |--- F22 >  103.00\n",
            "|   |   |   |   |   |   |   |   |   |--- class: 4\n",
            "|   |   |   |   |   |   |   |--- F26 >  93.00\n",
            "|   |   |   |   |   |   |   |   |--- class: 1\n",
            "|   |   |   |   |   |   |--- F28 >  70.50\n",
            "|   |   |   |   |   |   |   |--- F3 <= 101.50\n",
            "|   |   |   |   |   |   |   |   |--- F19 <= 103.50\n",
            "|   |   |   |   |   |   |   |   |   |--- F11 <= 103.50\n",
            "|   |   |   |   |   |   |   |   |   |   |--- F3 <= 97.50\n",
            "|   |   |   |   |   |   |   |   |   |   |   |--- class: 3\n",
            "|   |   |   |   |   |   |   |   |   |   |--- F3 >  97.50\n",
            "|   |   |   |   |   |   |   |   |   |   |   |--- truncated branch of depth 2\n",
            "|   |   |   |   |   |   |   |   |   |--- F11 >  103.50\n",
            "|   |   |   |   |   |   |   |   |   |   |--- F21 <= 91.00\n",
            "|   |   |   |   |   |   |   |   |   |   |   |--- class: 3\n",
            "|   |   |   |   |   |   |   |   |   |   |--- F21 >  91.00\n",
            "|   |   |   |   |   |   |   |   |   |   |   |--- class: 1\n",
            "|   |   |   |   |   |   |   |   |--- F19 >  103.50\n",
            "|   |   |   |   |   |   |   |   |   |--- class: 1\n",
            "|   |   |   |   |   |   |   |--- F3 >  101.50\n",
            "|   |   |   |   |   |   |   |   |--- class: 1\n",
            "|   |   |   |--- F15 >  98.50\n",
            "|   |   |   |   |--- F28 <= 85.00\n",
            "|   |   |   |   |   |--- class: 1\n",
            "|   |   |   |   |--- F28 >  85.00\n",
            "|   |   |   |   |   |--- F0 <= 79.00\n",
            "|   |   |   |   |   |   |--- class: 1\n",
            "|   |   |   |   |   |--- F0 >  79.00\n",
            "|   |   |   |   |   |   |--- class: 3\n",
            "|   |   |--- F32 >  85.50\n",
            "|   |   |   |--- F16 <= 86.50\n",
            "|   |   |   |   |--- F30 <= 92.50\n",
            "|   |   |   |   |   |--- class: 7\n",
            "|   |   |   |   |--- F30 >  92.50\n",
            "|   |   |   |   |   |--- F1 <= 102.50\n",
            "|   |   |   |   |   |   |--- F2 <= 107.00\n",
            "|   |   |   |   |   |   |   |--- class: 3\n",
            "|   |   |   |   |   |   |--- F2 >  107.00\n",
            "|   |   |   |   |   |   |   |--- F35 <= 84.50\n",
            "|   |   |   |   |   |   |   |   |--- class: 4\n",
            "|   |   |   |   |   |   |   |--- F35 >  84.50\n",
            "|   |   |   |   |   |   |   |   |--- class: 3\n",
            "|   |   |   |   |   |--- F1 >  102.50\n",
            "|   |   |   |   |   |   |--- F10 <= 105.50\n",
            "|   |   |   |   |   |   |   |--- F34 <= 111.50\n",
            "|   |   |   |   |   |   |   |   |--- F25 <= 102.50\n",
            "|   |   |   |   |   |   |   |   |   |--- class: 3\n",
            "|   |   |   |   |   |   |   |   |--- F25 >  102.50\n",
            "|   |   |   |   |   |   |   |   |   |--- F27 <= 91.50\n",
            "|   |   |   |   |   |   |   |   |   |   |--- class: 4\n",
            "|   |   |   |   |   |   |   |   |   |--- F27 >  91.50\n",
            "|   |   |   |   |   |   |   |   |   |   |--- class: 3\n",
            "|   |   |   |   |   |   |   |--- F34 >  111.50\n",
            "|   |   |   |   |   |   |   |   |--- class: 3\n",
            "|   |   |   |   |   |   |--- F10 >  105.50\n",
            "|   |   |   |   |   |   |   |--- F6 <= 103.00\n",
            "|   |   |   |   |   |   |   |   |--- class: 4\n",
            "|   |   |   |   |   |   |   |--- F6 >  103.00\n",
            "|   |   |   |   |   |   |   |   |--- F34 <= 103.00\n",
            "|   |   |   |   |   |   |   |   |   |--- class: 4\n",
            "|   |   |   |   |   |   |   |   |--- F34 >  103.00\n",
            "|   |   |   |   |   |   |   |   |   |--- F30 <= 118.50\n",
            "|   |   |   |   |   |   |   |   |   |   |--- F21 <= 99.50\n",
            "|   |   |   |   |   |   |   |   |   |   |   |--- truncated branch of depth 2\n",
            "|   |   |   |   |   |   |   |   |   |   |--- F21 >  99.50\n",
            "|   |   |   |   |   |   |   |   |   |   |   |--- class: 3\n",
            "|   |   |   |   |   |   |   |   |   |--- F30 >  118.50\n",
            "|   |   |   |   |   |   |   |   |   |   |--- F0 <= 86.00\n",
            "|   |   |   |   |   |   |   |   |   |   |   |--- class: 3\n",
            "|   |   |   |   |   |   |   |   |   |   |--- F0 >  86.00\n",
            "|   |   |   |   |   |   |   |   |   |   |   |--- class: 4\n",
            "|   |   |   |--- F16 >  86.50\n",
            "|   |   |   |   |--- F1 <= 87.50\n",
            "|   |   |   |   |   |--- F32 <= 90.50\n",
            "|   |   |   |   |   |   |--- class: 3\n",
            "|   |   |   |   |   |--- F32 >  90.50\n",
            "|   |   |   |   |   |   |--- class: 1\n",
            "|   |   |   |   |--- F1 >  87.50\n",
            "|   |   |   |   |   |--- F15 <= 80.00\n",
            "|   |   |   |   |   |   |--- F14 <= 106.50\n",
            "|   |   |   |   |   |   |   |--- class: 3\n",
            "|   |   |   |   |   |   |--- F14 >  106.50\n",
            "|   |   |   |   |   |   |   |--- class: 4\n",
            "|   |   |   |   |   |--- F15 >  80.00\n",
            "|   |   |   |   |   |   |--- F23 <= 79.50\n",
            "|   |   |   |   |   |   |   |--- F7 <= 90.00\n",
            "|   |   |   |   |   |   |   |   |--- class: 3\n",
            "|   |   |   |   |   |   |   |--- F7 >  90.00\n",
            "|   |   |   |   |   |   |   |   |--- class: 4\n",
            "|   |   |   |   |   |   |--- F23 >  79.50\n",
            "|   |   |   |   |   |   |   |--- F12 <= 83.50\n",
            "|   |   |   |   |   |   |   |   |--- F35 <= 85.00\n",
            "|   |   |   |   |   |   |   |   |   |--- class: 4\n",
            "|   |   |   |   |   |   |   |   |--- F35 >  85.00\n",
            "|   |   |   |   |   |   |   |   |   |--- class: 3\n",
            "|   |   |   |   |   |   |   |--- F12 >  83.50\n",
            "|   |   |   |   |   |   |   |   |--- F29 <= 119.00\n",
            "|   |   |   |   |   |   |   |   |   |--- class: 3\n",
            "|   |   |   |   |   |   |   |   |--- F29 >  119.00\n",
            "|   |   |   |   |   |   |   |   |   |--- F30 <= 119.50\n",
            "|   |   |   |   |   |   |   |   |   |   |--- class: 4\n",
            "|   |   |   |   |   |   |   |   |   |--- F30 >  119.50\n",
            "|   |   |   |   |   |   |   |   |   |   |--- class: 3\n",
            "\n"
          ]
        }
      ]
    },
    {
      "cell_type": "markdown",
      "source": [
        "**Question 3**\n",
        "\n",
        "Define a set of parameters to tune, you can use the scikit-learn documentation of the DecisionTreeClassifier class. Explain briefly what do they stand for.\n",
        "\n",
        "Paramenters:\n",
        "\n",
        "*criterion* ('gini', 'entropy' or “log_loss”; default=”gini”): The function to measure the quality of a split. 'gini' uses the Gini impurity, and 'entropy' uses information gain, “log_loss” and “entropy” both for the Shannon information gain.\n",
        "\n",
        "*splitter* (default value: 'best' or 'random'): The strategy used to choose the split at each node. 'best' selects the best split based on the specified criterion, while 'random' selects a random split.\n",
        "\n",
        "*max_depth* (default value: None): The maximum depth of the tree. If None, nodes are expanded until they contain less than min_samples_split samples or until all leaves contain less than min_samples_leaf samples.\n",
        "\n",
        "*min_samples_split* (default value: 2): The minimum number of samples required to split an internal node. If an internal node has fewer samples than min_samples_split, it won't be split.\n",
        "\n",
        "*max_features* (default value: None): The number of features to consider when looking for the best split. None - it considers all features; int, float or “auto”, “sqrt”, “log2”.\n",
        "\n",
        "<i>min_samples_leaf</i> (default: 1): The minimum number of samples required to be at a leaf node, a smaller min_samples_leaf leads to a more complex tree.\n",
        "\n",
        "<i>random_state</i> (default: None): Controls the randomness of the estimator. Setting random_state ensures reproducibility; int, RandomState instance.\n",
        "\n",
        "We can create a dictionary containing these parameters and their respective values, then use this dictionary in combination with cross-validation techniques to search for the best combination of hyperparameters. This process is also known as hyperparameter tuning."
      ],
      "metadata": {
        "id": "b9oyZ4K_RquN"
      }
    },
    {
      "cell_type": "code",
      "source": [
        "param_grid = {\n",
        "    'criterion': ['gini', 'entropy'],\n",
        "    'splitter': ['best', 'random'],\n",
        "    'max_depth': [None, 10, 20],\n",
        "    'min_samples_split': [2, 5, 10],\n",
        "    'max_features': [None, 'sqrt', 'log2'],\n",
        "    'min_samples_leaf': [1, 2, 4],\n",
        "    'random_state': [42],\n",
        "}"
      ],
      "metadata": {
        "id": "DAEelnO3SDqo"
      },
      "execution_count": 19,
      "outputs": []
    },
    {
      "cell_type": "code",
      "source": [
        "# Question 4\n",
        "# Run run a grid search algorithm to find the best combination of the hyper-parameters.\n",
        "\n",
        "from sklearn.model_selection import GridSearchCV\n",
        "from sklearn.metrics import make_scorer, accuracy_score\n",
        "\n",
        "decision_tree = DecisionTreeClassifier()\n",
        "\n",
        "grid_search = GridSearchCV(decision_tree, param_grid, cv=5, scoring=make_scorer(accuracy_score), n_jobs=-1)\n",
        "\n",
        "grid_search.fit(X_train, y_train)\n",
        "\n",
        "print(\"Best Hyperparameters:\", grid_search.best_params_)\n",
        "print(\"Best Accuracy Score:\", grid_search.best_score_)"
      ],
      "metadata": {
        "colab": {
          "base_uri": "https://localhost:8080/"
        },
        "id": "qzyLFFc9SLi_",
        "outputId": "78cf07cd-0cbe-4e40-b89d-3007def81f50"
      },
      "execution_count": 20,
      "outputs": [
        {
          "output_type": "stream",
          "name": "stdout",
          "text": [
            "Best Hyperparameters: {'criterion': 'entropy', 'max_depth': 10, 'max_features': 'sqrt', 'min_samples_leaf': 4, 'min_samples_split': 10, 'random_state': 42, 'splitter': 'best'}\n",
            "Best Accuracy Score: 0.8202931228861331\n"
          ]
        }
      ]
    },
    {
      "cell_type": "code",
      "source": [
        "# Question 5\n",
        "# Choose the best three combinations and run each 10 times. Average over the accuracies over the runs. Did the best score change?\n",
        "\n",
        "import numpy as np\n",
        "\n",
        "best_params = grid_search.best_params_\n",
        "best_score = grid_search.best_score_\n",
        "\n",
        "top_three_params = grid_search.cv_results_['params'][:3]\n",
        "\n",
        "for params in top_three_params:\n",
        "    accuracies = []\n",
        "    for _ in range(10):\n",
        "        decision_tree = DecisionTreeClassifier(**params)\n",
        "        decision_tree.fit(X_train, y_train)\n",
        "\n",
        "        y_pred = decision_tree.predict(X_test)\n",
        "\n",
        "        accuracy = accuracy_score(y_test, y_pred)\n",
        "        accuracies.append(accuracy)\n",
        "\n",
        "    avg_accuracy = np.mean(accuracies)\n",
        "    print(f\"\\nHyperparameters: {params}\")\n",
        "    print(f\"Average Accuracy over 10 runs: {avg_accuracy:.4f}\")"
      ],
      "metadata": {
        "colab": {
          "base_uri": "https://localhost:8080/"
        },
        "id": "myMNO2HzSPc7",
        "outputId": "cd3635b5-6c42-4bc0-d614-20ee9dfa0f5e"
      },
      "execution_count": 21,
      "outputs": [
        {
          "output_type": "stream",
          "name": "stdout",
          "text": [
            "\n",
            "Hyperparameters: {'criterion': 'gini', 'max_depth': None, 'max_features': None, 'min_samples_leaf': 1, 'min_samples_split': 2, 'random_state': 42, 'splitter': 'best'}\n",
            "Average Accuracy over 10 runs: 0.8490\n",
            "\n",
            "Hyperparameters: {'criterion': 'gini', 'max_depth': None, 'max_features': None, 'min_samples_leaf': 1, 'min_samples_split': 2, 'random_state': 42, 'splitter': 'random'}\n",
            "Average Accuracy over 10 runs: 0.8215\n",
            "\n",
            "Hyperparameters: {'criterion': 'gini', 'max_depth': None, 'max_features': None, 'min_samples_leaf': 1, 'min_samples_split': 5, 'random_state': 42, 'splitter': 'best'}\n",
            "Average Accuracy over 10 runs: 0.8545\n"
          ]
        }
      ]
    },
    {
      "cell_type": "markdown",
      "source": [
        "Best score changed, the accuracy with new paramenters became higher and reached 85 percents (as we can see in the previous case it was 82%)\n",
        "\n",
        "\n",
        "\n"
      ],
      "metadata": {
        "id": "YyVPyhy3SWGl"
      }
    },
    {
      "cell_type": "markdown",
      "source": [
        "**task4**"
      ],
      "metadata": {
        "id": "jZWBw9bkSkxf"
      }
    },
    {
      "cell_type": "markdown",
      "source": [
        "Question 1\n",
        "\n",
        "Testing AND function for different input combinations:\n",
        "\n",
        "1. $ x_1 = 0, x_2 = 0: $<br>$\n",
        "v = 1*0 + 1*0 = 0$<br>$\n",
        "v < 2, f(v) = 0 $<br><br>\n",
        "\n",
        "2. $ x_1 = 0, x_2 = 1: $<br>$\n",
        "v = 1*0 + 1*1 = 1$<br>$\n",
        "v < 2, f(v) = 0 $<br><br>\n",
        "\n",
        "3. $ x_1 = 1, x_2 = 0: $<br>$\n",
        "v = 1*1 + 1*0 = 1$<br>$\n",
        "v < 2, f(v) = 0 $<br><br>\n",
        "\n",
        "4. $ x_1 = 1, x_2 = 1: $<br>$\n",
        "v = 1*1 + 1*1 = 2$<br>$\n",
        "v = 2, f(v) = 0 $<br><br>\n",
        "\n",
        "We should have $f(v) = 1$ if $v >= 2$, in order to make the expression suitable for AND, otherwise, with this condition we won't get correct neural AND function."
      ],
      "metadata": {
        "id": "U0rdTqEFSnz-"
      }
    },
    {
      "cell_type": "markdown",
      "source": [
        "Question 2\n",
        "\n",
        "One possible solution is to decrease the threshold value till 1.\n",
        "\n",
        "$f(v) = 1$ if $v >= 1$\n",
        "\n",
        "Testing AND function for different input combinations:\n",
        "\n",
        "1. $ x_1 = 0, x_2 = 0: $<br>$\n",
        "v = 1*0 + 1*0 = 0$<br>$\n",
        "v < 1, f(v) = 0 $<br><br>\n",
        "\n",
        "2. $ x_1 = 0, x_2 = 1: $<br>$\n",
        "v = 1*0 + 1*1 = 1$<br>$\n",
        "v = 1, f(v) = 1 $<br><br>\n",
        "\n",
        "3. $ x_1 = 1, x_2 = 0: $<br>$\n",
        "v = 1*1 + 1*0 = 1$<br>$\n",
        "v = 1, f(v) = 1 $<br><br>\n",
        "\n",
        "4. $ x_1 = 1, x_2 = 1: $<br>$\n",
        "v = 1*1 + 1*1 = 2$<br>$\n",
        "v >= 1, f(v) = 1 $<br><br>\n",
        "\n"
      ],
      "metadata": {
        "id": "wsLyd7jESsEw"
      }
    },
    {
      "cell_type": "markdown",
      "source": [
        "Question 3\n",
        "\n",
        "It is not possible to implement the XOR neither by a single unit nor by a single–layer feed–forward network. The solution was found using a feed–forward network with a hidden layer. The XOR network uses two hidden nodes and one output node."
      ],
      "metadata": {
        "id": "afewuUsWSv--"
      }
    },
    {
      "cell_type": "markdown",
      "source": [
        "**task3**"
      ],
      "metadata": {
        "id": "MQBC2z_IS9Eh"
      }
    },
    {
      "cell_type": "code",
      "source": [
        "import torch\n",
        "import torch.nn as nn\n",
        "import torch.nn.functional as F\n",
        "\n",
        "class CustomCNN(nn.Module):\n",
        "    def __init__(self):\n",
        "        super(CustomCNN, self).__init__()\n",
        "        self.conv1 = nn.Conv2d(in_channels=1, out_channels=32, kernel_size=3, stride=1, padding=1)\n",
        "        self.conv2 = nn.Conv2d(in_channels=32, out_channels=64, kernel_size=3, stride=1, padding=1)\n",
        "        self.conv3 = nn.Conv2d(in_channels=64, out_channels=128, kernel_size=3, stride=1, padding=1)\n",
        "        self.pool = nn.MaxPool2d(kernel_size=2, stride=2)\n",
        "        self.fc1 = nn.Linear(128 * 3 * 3, 512)\n",
        "        self.fc2 = nn.Linear(512, 10)\n",
        "\n",
        "    def forward(self, x):\n",
        "        x = self.pool(F.relu(self.conv1(x)))\n",
        "        x = self.pool(F.relu(self.conv2(x)))\n",
        "        x = self.pool(F.relu(self.conv3(x)))\n",
        "        x = x.view(-1,128 * 3 * 3)  # Flatten the tensor for the fully connected layers\n",
        "        x = nn.functional.relu(self.fc1(x))\n",
        "        x = self.fc2(x)\n",
        "        return nn.functional.log_softmax(x, dim=1)\n"
      ],
      "metadata": {
        "id": "VBG1Pw1tSdYH"
      },
      "execution_count": 43,
      "outputs": []
    },
    {
      "cell_type": "code",
      "source": [
        "# Create an instance of the CustomCNN model\n",
        "model = CustomCNN()\n",
        "\n",
        "# Count the number of parameters\n",
        "num_params = sum(p.numel() for p in model.parameters() if p.requires_grad)\n",
        "print(f\"There are {num_params} parameters in this CustomCNN.\")\n"
      ],
      "metadata": {
        "colab": {
          "base_uri": "https://localhost:8080/"
        },
        "id": "CbmGgn6CTGrO",
        "outputId": "61204815-f7fe-4421-a5a7-93404c2482e8"
      },
      "execution_count": 44,
      "outputs": [
        {
          "output_type": "stream",
          "name": "stdout",
          "text": [
            "There are 688138 parameters in this CustomCNN.\n"
          ]
        }
      ]
    },
    {
      "cell_type": "code",
      "source": [],
      "metadata": {
        "id": "ckFPCydkgMSR"
      },
      "execution_count": null,
      "outputs": []
    },
    {
      "cell_type": "markdown",
      "source": [
        "This CNN model has:\n",
        "- convolutional layers: 3 convolutional blocks (conv1, conv2, conv3)\n",
        "- linear layers: 2 linear layers (fc1, fc2)\n",
        "\n",
        "\n",
        "__input shape__\n",
        "\n",
        "For the Fashion MNIST dataset, the images are grayscale, meaning they have a single channel (1 color channel), and each image has a resolution of 28x28 pixels.\n",
        "\n",
        "Therefore, the input shape for the CNN model when working with Fashion MNIST images is `(1, 28, 28)`. This signifies a single channel with an image resolution of 28x28 pixels.\n",
        "\n"
      ],
      "metadata": {
        "id": "rnq16T2ATLoC"
      }
    },
    {
      "cell_type": "code",
      "source": [
        "\n",
        "import torchvision\n",
        "import torchvision.transforms as transforms\n",
        "import torch.optim as optim\n",
        "\n",
        "\n",
        "# Load Fashion MNIST dataset\n",
        "transform = transforms.Compose([transforms.ToTensor()])\n",
        "trainset = torchvision.datasets.FashionMNIST(root='./data', train=True, download=True, transform=transform)\n",
        "trainloader = torch.utils.data.DataLoader(trainset, batch_size=64, shuffle=True)\n",
        "\n",
        "# Define the criterion (loss function) and optimizer\n",
        "criterion = nn.CrossEntropyLoss()\n",
        "optimizer = optim.Adam(model.parameters(), lr=0.001)\n",
        "\n",
        "# Training loop\n",
        "epochs = 6\n",
        "for epoch in range(epochs):\n",
        "    running_loss = 0.0\n",
        "    for i, data in enumerate(trainloader, 0):\n",
        "        inputs, labels = data\n",
        "        optimizer.zero_grad()\n",
        "\n",
        "        # Forward, backward, and optimize\n",
        "        outputs = model(inputs)\n",
        "        loss = criterion(outputs, labels)\n",
        "        loss.backward()\n",
        "        optimizer.step()\n",
        "\n",
        "        running_loss += loss.item()\n",
        "        if i % 300 == 299:  # Print every 100 mini-batches\n",
        "            print(f\"Epoch {epoch + 1}, Batch {i + 1}: Loss {running_loss / 100:.3f}\")\n",
        "            running_loss = 0.0\n",
        "\n",
        "print(\"Finished Training\")\n",
        "\n"
      ],
      "metadata": {
        "colab": {
          "base_uri": "https://localhost:8080/"
        },
        "id": "CBMkTR5dYcL6",
        "outputId": "3373a87a-6aff-4981-85b6-0a01363683b8"
      },
      "execution_count": 46,
      "outputs": [
        {
          "output_type": "stream",
          "name": "stdout",
          "text": [
            "Epoch 1, Batch 300: Loss 0.605\n",
            "Epoch 1, Batch 600: Loss 0.630\n",
            "Epoch 1, Batch 900: Loss 0.630\n",
            "Epoch 2, Batch 300: Loss 0.532\n",
            "Epoch 2, Batch 600: Loss 0.536\n",
            "Epoch 2, Batch 900: Loss 0.531\n",
            "Epoch 3, Batch 300: Loss 0.447\n",
            "Epoch 3, Batch 600: Loss 0.469\n",
            "Epoch 3, Batch 900: Loss 0.482\n",
            "Epoch 4, Batch 300: Loss 0.398\n",
            "Epoch 4, Batch 600: Loss 0.396\n",
            "Epoch 4, Batch 900: Loss 0.433\n",
            "Epoch 5, Batch 300: Loss 0.346\n",
            "Epoch 5, Batch 600: Loss 0.370\n",
            "Epoch 5, Batch 900: Loss 0.347\n",
            "Epoch 6, Batch 300: Loss 0.265\n",
            "Epoch 6, Batch 600: Loss 0.310\n",
            "Epoch 6, Batch 900: Loss 0.331\n",
            "Finished Training\n"
          ]
        }
      ]
    },
    {
      "cell_type": "code",
      "source": [
        "import matplotlib.pyplot as plt\n",
        "import numpy as np\n",
        "\n",
        "\n",
        "# Load Fashion MNIST test dataset\n",
        "testset = torchvision.datasets.FashionMNIST(root='./data', train=False, download=True, transform=transform)\n",
        "testloader = torch.utils.data.DataLoader(testset, batch_size=4, shuffle=True)\n",
        "\n",
        "# Function to display a single image from the dataset\n",
        "def imshow(img):\n",
        "    img = img / 2 + 0.5  # Unnormalize\n",
        "    npimg = img.numpy()\n",
        "    plt.imshow(np.transpose(npimg, (1, 2, 0)))\n",
        "    plt.show()\n",
        "\n",
        "# Display a random image from the test set\n",
        "dataiter = iter(testloader)\n",
        "images, labels = dataiter.next()\n",
        "imshow(torchvision.utils.make_grid(images))\n",
        "\n",
        "# Make a prediction for the displayed image\n",
        "outputs = model(images)\n",
        "_, predicted = torch.max(outputs, 1)\n",
        "\n",
        "# Display predicted probabilities\n",
        "print('Predicted Probabilities:', torch.nn.functional.softmax(outputs, dim=1))\n",
        "print('Predicted Classes:', predicted)\n"
      ],
      "metadata": {
        "colab": {
          "base_uri": "https://localhost:8080/",
          "height": 245
        },
        "id": "b-km8zjlcjZm",
        "outputId": "4899e5a7-5817-4bb8-9cae-aad75b4f1adb"
      },
      "execution_count": 49,
      "outputs": [
        {
          "output_type": "error",
          "ename": "AttributeError",
          "evalue": "ignored",
          "traceback": [
            "\u001b[0;31m---------------------------------------------------------------------------\u001b[0m",
            "\u001b[0;31mAttributeError\u001b[0m                            Traceback (most recent call last)",
            "\u001b[0;32m<ipython-input-49-36875066b8fd>\u001b[0m in \u001b[0;36m<cell line: 18>\u001b[0;34m()\u001b[0m\n\u001b[1;32m     16\u001b[0m \u001b[0;31m# Display a random image from the test set\u001b[0m\u001b[0;34m\u001b[0m\u001b[0;34m\u001b[0m\u001b[0m\n\u001b[1;32m     17\u001b[0m \u001b[0mdataiter\u001b[0m \u001b[0;34m=\u001b[0m \u001b[0miter\u001b[0m\u001b[0;34m(\u001b[0m\u001b[0mtestloader\u001b[0m\u001b[0;34m)\u001b[0m\u001b[0;34m\u001b[0m\u001b[0;34m\u001b[0m\u001b[0m\n\u001b[0;32m---> 18\u001b[0;31m \u001b[0mimages\u001b[0m\u001b[0;34m,\u001b[0m \u001b[0mlabels\u001b[0m \u001b[0;34m=\u001b[0m \u001b[0mdataiter\u001b[0m\u001b[0;34m.\u001b[0m\u001b[0mnext\u001b[0m\u001b[0;34m(\u001b[0m\u001b[0;34m)\u001b[0m\u001b[0;34m\u001b[0m\u001b[0;34m\u001b[0m\u001b[0m\n\u001b[0m\u001b[1;32m     19\u001b[0m \u001b[0mimshow\u001b[0m\u001b[0;34m(\u001b[0m\u001b[0mtorchvision\u001b[0m\u001b[0;34m.\u001b[0m\u001b[0mutils\u001b[0m\u001b[0;34m.\u001b[0m\u001b[0mmake_grid\u001b[0m\u001b[0;34m(\u001b[0m\u001b[0mimages\u001b[0m\u001b[0;34m)\u001b[0m\u001b[0;34m)\u001b[0m\u001b[0;34m\u001b[0m\u001b[0;34m\u001b[0m\u001b[0m\n\u001b[1;32m     20\u001b[0m \u001b[0;34m\u001b[0m\u001b[0m\n",
            "\u001b[0;31mAttributeError\u001b[0m: '_SingleProcessDataLoaderIter' object has no attribute 'next'"
          ]
        }
      ]
    },
    {
      "cell_type": "code",
      "source": [
        "from sklearn.metrics import accuracy_score, precision_score, recall_score, f1_score\n",
        "\n",
        "\n",
        "\n",
        "model.eval()\n",
        "predicted_labels = []\n",
        "true_labels = []\n",
        "\n",
        "# Iterate through the test set and make predictions\n",
        "with torch.no_grad():\n",
        "    for data in testloader:\n",
        "        images, labels = data\n",
        "        outputs = model(images)\n",
        "        _, predicted = torch.max(outputs, 1)\n",
        "        predicted_labels.extend(predicted.tolist())\n",
        "        true_labels.extend(labels.tolist())\n",
        "\n",
        "# Calculate evaluation metrics\n",
        "accuracy = accuracy_score(true_labels, predicted_labels)\n",
        "precision = precision_score(true_labels, predicted_labels, average='weighted')\n",
        "recall = recall_score(true_labels, predicted_labels, average='weighted')\n",
        "f1 = f1_score(true_labels, predicted_labels, average='weighted')\n",
        "\n",
        "print(f\"Accuracy: {accuracy:.4f}\")\n",
        "print(f\"Precision: {precision:.4f}\")\n",
        "print(f\"Recall: {recall:.4f}\")\n",
        "print(f\"F1 Score: {f1:.4f}\")\n"
      ],
      "metadata": {
        "colab": {
          "base_uri": "https://localhost:8080/"
        },
        "id": "l8iBTDByTM1m",
        "outputId": "cfaf2a30-dbfa-4d80-a43c-2c2b9aaa2d06"
      },
      "execution_count": 50,
      "outputs": [
        {
          "output_type": "stream",
          "name": "stdout",
          "text": [
            "Accuracy: 0.9156\n",
            "Precision: 0.9173\n",
            "Recall: 0.9156\n",
            "F1 Score: 0.9159\n"
          ]
        }
      ]
    },
    {
      "cell_type": "markdown",
      "source": [
        "as we saw above CNN model give more accurate result than FNN model.\n",
        "CNN model outperformed the FNN model on the Fashion MNIST dataset, especially in terms of accuracy and robustness in handling image classification tasks."
      ],
      "metadata": {
        "id": "urbQUgdliIwx"
      }
    }
  ]
}